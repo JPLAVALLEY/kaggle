{
  "nbformat": 4,
  "nbformat_minor": 0,
  "metadata": {
    "colab": {
      "name": "House_Prices_Model_Development.ipynb",
      "provenance": [],
      "collapsed_sections": [],
      "include_colab_link": true
    },
    "kernelspec": {
      "name": "python3",
      "display_name": "Python 3"
    }
  },
  "cells": [
    {
      "cell_type": "markdown",
      "metadata": {
        "id": "view-in-github",
        "colab_type": "text"
      },
      "source": [
        "<a href=\"https://colab.research.google.com/github/JPLAVALLEY/kaggle/blob/master/House_Prices_Model_Development.ipynb\" target=\"_parent\"><img src=\"https://colab.research.google.com/assets/colab-badge.svg\" alt=\"Open In Colab\"/></a>"
      ]
    },
    {
      "cell_type": "markdown",
      "metadata": {
        "id": "dXZ32l_dj1QN",
        "colab_type": "text"
      },
      "source": [
        "# Kaggle Competition for House Prices: Advanced Regression Techniques"
      ]
    },
    {
      "cell_type": "markdown",
      "metadata": {
        "id": "H5hIBYNcj70M",
        "colab_type": "text"
      },
      "source": [
        "Upload my kaggle.json API file"
      ]
    },
    {
      "cell_type": "code",
      "metadata": {
        "id": "8CozKSJbjrnH",
        "colab_type": "code",
        "colab": {}
      },
      "source": [
        "from google.colab import files\n",
        "files.upload()"
      ],
      "execution_count": 0,
      "outputs": []
    }
  ]
}