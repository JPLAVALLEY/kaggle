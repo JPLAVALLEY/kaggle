{
  "nbformat": 4,
  "nbformat_minor": 0,
  "metadata": {
    "colab": {
      "name": "Housing_Prices_Model_Ver3.ipynb",
      "provenance": [],
      "collapsed_sections": [],
      "include_colab_link": true
    },
    "kernelspec": {
      "name": "python3",
      "display_name": "Python 3"
    }
  },
  "cells": [
    {
      "cell_type": "markdown",
      "metadata": {
        "id": "view-in-github",
        "colab_type": "text"
      },
      "source": [
        "<a href=\"https://colab.research.google.com/github/JPLAVALLEY/kaggle/blob/master/Housing_Prices_Model_Ver3.ipynb\" target=\"_parent\"><img src=\"https://colab.research.google.com/assets/colab-badge.svg\" alt=\"Open In Colab\"/></a>"
      ]
    },
    {
      "cell_type": "code",
      "metadata": {
        "id": "cCzahvOsaG5u",
        "colab_type": "code",
        "colab": {
          "resources": {
            "http://localhost:8080/nbextensions/google.colab/files.js": {
              "data": "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",
              "ok": true,
              "headers": [
                [
                  "content-type",
                  "application/javascript"
                ]
              ],
              "status": 200,
              "status_text": ""
            }
          },
          "base_uri": "https://localhost:8080/",
          "height": 91
        },
        "outputId": "182aac4e-0d87-450a-d620-b90da6dc2a8d"
      },
      "source": [
        "from google.colab import files\n",
        "files.upload()"
      ],
      "execution_count": 2,
      "outputs": [
        {
          "output_type": "display_data",
          "data": {
            "text/html": [
              "\n",
              "     <input type=\"file\" id=\"files-1eb0f89b-fa00-4cce-b6aa-e90938750073\" name=\"files[]\" multiple disabled />\n",
              "     <output id=\"result-1eb0f89b-fa00-4cce-b6aa-e90938750073\">\n",
              "      Upload widget is only available when the cell has been executed in the\n",
              "      current browser session. Please rerun this cell to enable.\n",
              "      </output>\n",
              "      <script src=\"/nbextensions/google.colab/files.js\"></script> "
            ],
            "text/plain": [
              "<IPython.core.display.HTML object>"
            ]
          },
          "metadata": {
            "tags": []
          }
        },
        {
          "output_type": "stream",
          "text": [
            "Saving kaggle.json to kaggle.json\n"
          ],
          "name": "stdout"
        },
        {
          "output_type": "execute_result",
          "data": {
            "text/plain": [
              "{'kaggle.json': b'{\"username\":\"jplavalley\",\"key\":\"6b3c042d9370b332481115da40efebc2\"}'}"
            ]
          },
          "metadata": {
            "tags": []
          },
          "execution_count": 2
        }
      ]
    },
    {
      "cell_type": "code",
      "metadata": {
        "id": "kPfP3cFsbBAF",
        "colab_type": "code",
        "colab": {}
      },
      "source": [
        "!mkdir -p ~/.kaggle\n",
        "!cp kaggle.json ~/.kaggle/\n",
        "\n",
        "#Change permission\n",
        "!chmod 600 ~/.kaggle/kaggle.json"
      ],
      "execution_count": 0,
      "outputs": []
    },
    {
      "cell_type": "code",
      "metadata": {
        "id": "A8h_0fNsbGTp",
        "colab_type": "code",
        "colab": {
          "base_uri": "https://localhost:8080/",
          "height": 238
        },
        "outputId": "6ac2229b-eddf-45b2-f2e2-7ec6a5b0ddb1"
      },
      "source": [
        "!kaggle competitions download -c house-prices-advanced-regression-techniques"
      ],
      "execution_count": 4,
      "outputs": [
        {
          "output_type": "stream",
          "text": [
            "Warning: Looks like you're using an outdated API Version, please consider updating (server 1.5.6 / client 1.5.4)\n",
            "Downloading sample_submission.csv to /content\n",
            "  0% 0.00/31.2k [00:00<?, ?B/s]\n",
            "100% 31.2k/31.2k [00:00<00:00, 49.3MB/s]\n",
            "Downloading test.csv to /content\n",
            "  0% 0.00/441k [00:00<?, ?B/s]\n",
            "100% 441k/441k [00:00<00:00, 54.5MB/s]\n",
            "Downloading train.csv to /content\n",
            "  0% 0.00/450k [00:00<?, ?B/s]\n",
            "100% 450k/450k [00:00<00:00, 61.3MB/s]\n",
            "Downloading data_description.txt to /content\n",
            "  0% 0.00/13.1k [00:00<?, ?B/s]\n",
            "100% 13.1k/13.1k [00:00<00:00, 27.2MB/s]\n"
          ],
          "name": "stdout"
        }
      ]
    },
    {
      "cell_type": "markdown",
      "metadata": {
        "id": "Jey3ApWmbTvH",
        "colab_type": "text"
      },
      "source": [
        "# COMPONENTS OF THIS PROJECT\n",
        "\n",
        "### 1- EXPLORATORY DATA ANALYSIS\n",
        "\n",
        "### 2- DATA CLEANING\n",
        "\n",
        "### 3- FEATURE ENGINEERING\n",
        "\n",
        "### 4- ENCODING CATEGORICAL FEATURES\n",
        "\n",
        "### 5- DETECTING OUTLIERS\n",
        "\n",
        "### 6- MACHINE LEARNING"
      ]
    },
    {
      "cell_type": "code",
      "metadata": {
        "id": "Tbzs2sZkbHni",
        "colab_type": "code",
        "colab": {}
      },
      "source": [
        "import numpy as np # linear algebra\n",
        "import pandas as pd # data processing, CSV file I/O (e.g. pd.read_csv)\n",
        "import matplotlib.pyplot as plt\n",
        "import seaborn as sns\n",
        "sns.set_style('whitegrid')\n",
        "\n",
        "import warnings\n",
        "warnings.simplefilter(action='ignore')\n",
        "\n",
        "# Input data files are available in the \"../input/\" directory.\n",
        "# For example, running this (by clicking run or pressing Shift+Enter) will list all files under the input directory\n",
        "\n",
        "import os\n",
        "for dirname, _, filenames in os.walk('/kaggle/input'):\n",
        "    for filename in filenames:\n",
        "        print(os.path.join(dirname, filename))\n",
        "\n",
        "# Any results you write to the current directory are saved as output."
      ],
      "execution_count": 0,
      "outputs": []
    },
    {
      "cell_type": "markdown",
      "metadata": {
        "id": "breCtTZgwpf4",
        "colab_type": "text"
      },
      "source": [
        "We open our train and test datasets"
      ]
    },
    {
      "cell_type": "code",
      "metadata": {
        "id": "g2rE-IKJbLjx",
        "colab_type": "code",
        "colab": {}
      },
      "source": [
        "a = pd.read_csv('train.csv')\n",
        "b = pd.read_csv('test.csv')"
      ],
      "execution_count": 0,
      "outputs": []
    },
    {
      "cell_type": "code",
      "metadata": {
        "id": "Uy0y53lxwe2t",
        "colab_type": "code",
        "colab": {}
      },
      "source": [
        "#Use this code to show all the 163 columns\n",
        "pd.set_option('display.max_columns', None)\n",
        "pd.set_option('display.max_rows', None)"
      ],
      "execution_count": 0,
      "outputs": []
    },
    {
      "cell_type": "markdown",
      "metadata": {
        "id": "TE8Rv0gowtNx",
        "colab_type": "text"
      },
      "source": [
        "Here is a glimpse of what we will be dealing with:\n",
        "\n",
        "Many features, many missing values and one target feature: \"SalePrice\" which is the price of the houses we are supposed to predict"
      ]
    },
    {
      "cell_type": "code",
      "metadata": {
        "id": "FEeInRtGwl5T",
        "colab_type": "code",
        "colab": {
          "base_uri": "https://localhost:8080/",
          "height": 224
        },
        "outputId": "fce0025a-d0ba-4c51-bac2-042de78521e4"
      },
      "source": [
        "a.head()"
      ],
      "execution_count": 11,
      "outputs": [
        {
          "output_type": "execute_result",
          "data": {
            "text/html": [
              "<div>\n",
              "<style scoped>\n",
              "    .dataframe tbody tr th:only-of-type {\n",
              "        vertical-align: middle;\n",
              "    }\n",
              "\n",
              "    .dataframe tbody tr th {\n",
              "        vertical-align: top;\n",
              "    }\n",
              "\n",
              "    .dataframe thead th {\n",
              "        text-align: right;\n",
              "    }\n",
              "</style>\n",
              "<table border=\"1\" class=\"dataframe\">\n",
              "  <thead>\n",
              "    <tr style=\"text-align: right;\">\n",
              "      <th></th>\n",
              "      <th>Id</th>\n",
              "      <th>MSSubClass</th>\n",
              "      <th>MSZoning</th>\n",
              "      <th>LotFrontage</th>\n",
              "      <th>LotArea</th>\n",
              "      <th>Street</th>\n",
              "      <th>Alley</th>\n",
              "      <th>LotShape</th>\n",
              "      <th>LandContour</th>\n",
              "      <th>Utilities</th>\n",
              "      <th>LotConfig</th>\n",
              "      <th>LandSlope</th>\n",
              "      <th>Neighborhood</th>\n",
              "      <th>Condition1</th>\n",
              "      <th>Condition2</th>\n",
              "      <th>BldgType</th>\n",
              "      <th>HouseStyle</th>\n",
              "      <th>OverallQual</th>\n",
              "      <th>OverallCond</th>\n",
              "      <th>YearBuilt</th>\n",
              "      <th>YearRemodAdd</th>\n",
              "      <th>RoofStyle</th>\n",
              "      <th>RoofMatl</th>\n",
              "      <th>Exterior1st</th>\n",
              "      <th>Exterior2nd</th>\n",
              "      <th>MasVnrType</th>\n",
              "      <th>MasVnrArea</th>\n",
              "      <th>ExterQual</th>\n",
              "      <th>ExterCond</th>\n",
              "      <th>Foundation</th>\n",
              "      <th>BsmtQual</th>\n",
              "      <th>BsmtCond</th>\n",
              "      <th>BsmtExposure</th>\n",
              "      <th>BsmtFinType1</th>\n",
              "      <th>BsmtFinSF1</th>\n",
              "      <th>BsmtFinType2</th>\n",
              "      <th>BsmtFinSF2</th>\n",
              "      <th>BsmtUnfSF</th>\n",
              "      <th>TotalBsmtSF</th>\n",
              "      <th>Heating</th>\n",
              "      <th>HeatingQC</th>\n",
              "      <th>CentralAir</th>\n",
              "      <th>Electrical</th>\n",
              "      <th>1stFlrSF</th>\n",
              "      <th>2ndFlrSF</th>\n",
              "      <th>LowQualFinSF</th>\n",
              "      <th>GrLivArea</th>\n",
              "      <th>BsmtFullBath</th>\n",
              "      <th>BsmtHalfBath</th>\n",
              "      <th>FullBath</th>\n",
              "      <th>HalfBath</th>\n",
              "      <th>BedroomAbvGr</th>\n",
              "      <th>KitchenAbvGr</th>\n",
              "      <th>KitchenQual</th>\n",
              "      <th>TotRmsAbvGrd</th>\n",
              "      <th>Functional</th>\n",
              "      <th>Fireplaces</th>\n",
              "      <th>FireplaceQu</th>\n",
              "      <th>GarageType</th>\n",
              "      <th>GarageYrBlt</th>\n",
              "      <th>GarageFinish</th>\n",
              "      <th>GarageCars</th>\n",
              "      <th>GarageArea</th>\n",
              "      <th>GarageQual</th>\n",
              "      <th>GarageCond</th>\n",
              "      <th>PavedDrive</th>\n",
              "      <th>WoodDeckSF</th>\n",
              "      <th>OpenPorchSF</th>\n",
              "      <th>EnclosedPorch</th>\n",
              "      <th>3SsnPorch</th>\n",
              "      <th>ScreenPorch</th>\n",
              "      <th>PoolArea</th>\n",
              "      <th>PoolQC</th>\n",
              "      <th>Fence</th>\n",
              "      <th>MiscFeature</th>\n",
              "      <th>MiscVal</th>\n",
              "      <th>MoSold</th>\n",
              "      <th>YrSold</th>\n",
              "      <th>SaleType</th>\n",
              "      <th>SaleCondition</th>\n",
              "      <th>SalePrice</th>\n",
              "    </tr>\n",
              "  </thead>\n",
              "  <tbody>\n",
              "    <tr>\n",
              "      <th>0</th>\n",
              "      <td>1</td>\n",
              "      <td>60</td>\n",
              "      <td>RL</td>\n",
              "      <td>65.0</td>\n",
              "      <td>8450</td>\n",
              "      <td>Pave</td>\n",
              "      <td>NaN</td>\n",
              "      <td>Reg</td>\n",
              "      <td>Lvl</td>\n",
              "      <td>AllPub</td>\n",
              "      <td>Inside</td>\n",
              "      <td>Gtl</td>\n",
              "      <td>CollgCr</td>\n",
              "      <td>Norm</td>\n",
              "      <td>Norm</td>\n",
              "      <td>1Fam</td>\n",
              "      <td>2Story</td>\n",
              "      <td>7</td>\n",
              "      <td>5</td>\n",
              "      <td>2003</td>\n",
              "      <td>2003</td>\n",
              "      <td>Gable</td>\n",
              "      <td>CompShg</td>\n",
              "      <td>VinylSd</td>\n",
              "      <td>VinylSd</td>\n",
              "      <td>BrkFace</td>\n",
              "      <td>196.0</td>\n",
              "      <td>Gd</td>\n",
              "      <td>TA</td>\n",
              "      <td>PConc</td>\n",
              "      <td>Gd</td>\n",
              "      <td>TA</td>\n",
              "      <td>No</td>\n",
              "      <td>GLQ</td>\n",
              "      <td>706</td>\n",
              "      <td>Unf</td>\n",
              "      <td>0</td>\n",
              "      <td>150</td>\n",
              "      <td>856</td>\n",
              "      <td>GasA</td>\n",
              "      <td>Ex</td>\n",
              "      <td>Y</td>\n",
              "      <td>SBrkr</td>\n",
              "      <td>856</td>\n",
              "      <td>854</td>\n",
              "      <td>0</td>\n",
              "      <td>1710</td>\n",
              "      <td>1</td>\n",
              "      <td>0</td>\n",
              "      <td>2</td>\n",
              "      <td>1</td>\n",
              "      <td>3</td>\n",
              "      <td>1</td>\n",
              "      <td>Gd</td>\n",
              "      <td>8</td>\n",
              "      <td>Typ</td>\n",
              "      <td>0</td>\n",
              "      <td>NaN</td>\n",
              "      <td>Attchd</td>\n",
              "      <td>2003.0</td>\n",
              "      <td>RFn</td>\n",
              "      <td>2</td>\n",
              "      <td>548</td>\n",
              "      <td>TA</td>\n",
              "      <td>TA</td>\n",
              "      <td>Y</td>\n",
              "      <td>0</td>\n",
              "      <td>61</td>\n",
              "      <td>0</td>\n",
              "      <td>0</td>\n",
              "      <td>0</td>\n",
              "      <td>0</td>\n",
              "      <td>NaN</td>\n",
              "      <td>NaN</td>\n",
              "      <td>NaN</td>\n",
              "      <td>0</td>\n",
              "      <td>2</td>\n",
              "      <td>2008</td>\n",
              "      <td>WD</td>\n",
              "      <td>Normal</td>\n",
              "      <td>208500</td>\n",
              "    </tr>\n",
              "    <tr>\n",
              "      <th>1</th>\n",
              "      <td>2</td>\n",
              "      <td>20</td>\n",
              "      <td>RL</td>\n",
              "      <td>80.0</td>\n",
              "      <td>9600</td>\n",
              "      <td>Pave</td>\n",
              "      <td>NaN</td>\n",
              "      <td>Reg</td>\n",
              "      <td>Lvl</td>\n",
              "      <td>AllPub</td>\n",
              "      <td>FR2</td>\n",
              "      <td>Gtl</td>\n",
              "      <td>Veenker</td>\n",
              "      <td>Feedr</td>\n",
              "      <td>Norm</td>\n",
              "      <td>1Fam</td>\n",
              "      <td>1Story</td>\n",
              "      <td>6</td>\n",
              "      <td>8</td>\n",
              "      <td>1976</td>\n",
              "      <td>1976</td>\n",
              "      <td>Gable</td>\n",
              "      <td>CompShg</td>\n",
              "      <td>MetalSd</td>\n",
              "      <td>MetalSd</td>\n",
              "      <td>None</td>\n",
              "      <td>0.0</td>\n",
              "      <td>TA</td>\n",
              "      <td>TA</td>\n",
              "      <td>CBlock</td>\n",
              "      <td>Gd</td>\n",
              "      <td>TA</td>\n",
              "      <td>Gd</td>\n",
              "      <td>ALQ</td>\n",
              "      <td>978</td>\n",
              "      <td>Unf</td>\n",
              "      <td>0</td>\n",
              "      <td>284</td>\n",
              "      <td>1262</td>\n",
              "      <td>GasA</td>\n",
              "      <td>Ex</td>\n",
              "      <td>Y</td>\n",
              "      <td>SBrkr</td>\n",
              "      <td>1262</td>\n",
              "      <td>0</td>\n",
              "      <td>0</td>\n",
              "      <td>1262</td>\n",
              "      <td>0</td>\n",
              "      <td>1</td>\n",
              "      <td>2</td>\n",
              "      <td>0</td>\n",
              "      <td>3</td>\n",
              "      <td>1</td>\n",
              "      <td>TA</td>\n",
              "      <td>6</td>\n",
              "      <td>Typ</td>\n",
              "      <td>1</td>\n",
              "      <td>TA</td>\n",
              "      <td>Attchd</td>\n",
              "      <td>1976.0</td>\n",
              "      <td>RFn</td>\n",
              "      <td>2</td>\n",
              "      <td>460</td>\n",
              "      <td>TA</td>\n",
              "      <td>TA</td>\n",
              "      <td>Y</td>\n",
              "      <td>298</td>\n",
              "      <td>0</td>\n",
              "      <td>0</td>\n",
              "      <td>0</td>\n",
              "      <td>0</td>\n",
              "      <td>0</td>\n",
              "      <td>NaN</td>\n",
              "      <td>NaN</td>\n",
              "      <td>NaN</td>\n",
              "      <td>0</td>\n",
              "      <td>5</td>\n",
              "      <td>2007</td>\n",
              "      <td>WD</td>\n",
              "      <td>Normal</td>\n",
              "      <td>181500</td>\n",
              "    </tr>\n",
              "    <tr>\n",
              "      <th>2</th>\n",
              "      <td>3</td>\n",
              "      <td>60</td>\n",
              "      <td>RL</td>\n",
              "      <td>68.0</td>\n",
              "      <td>11250</td>\n",
              "      <td>Pave</td>\n",
              "      <td>NaN</td>\n",
              "      <td>IR1</td>\n",
              "      <td>Lvl</td>\n",
              "      <td>AllPub</td>\n",
              "      <td>Inside</td>\n",
              "      <td>Gtl</td>\n",
              "      <td>CollgCr</td>\n",
              "      <td>Norm</td>\n",
              "      <td>Norm</td>\n",
              "      <td>1Fam</td>\n",
              "      <td>2Story</td>\n",
              "      <td>7</td>\n",
              "      <td>5</td>\n",
              "      <td>2001</td>\n",
              "      <td>2002</td>\n",
              "      <td>Gable</td>\n",
              "      <td>CompShg</td>\n",
              "      <td>VinylSd</td>\n",
              "      <td>VinylSd</td>\n",
              "      <td>BrkFace</td>\n",
              "      <td>162.0</td>\n",
              "      <td>Gd</td>\n",
              "      <td>TA</td>\n",
              "      <td>PConc</td>\n",
              "      <td>Gd</td>\n",
              "      <td>TA</td>\n",
              "      <td>Mn</td>\n",
              "      <td>GLQ</td>\n",
              "      <td>486</td>\n",
              "      <td>Unf</td>\n",
              "      <td>0</td>\n",
              "      <td>434</td>\n",
              "      <td>920</td>\n",
              "      <td>GasA</td>\n",
              "      <td>Ex</td>\n",
              "      <td>Y</td>\n",
              "      <td>SBrkr</td>\n",
              "      <td>920</td>\n",
              "      <td>866</td>\n",
              "      <td>0</td>\n",
              "      <td>1786</td>\n",
              "      <td>1</td>\n",
              "      <td>0</td>\n",
              "      <td>2</td>\n",
              "      <td>1</td>\n",
              "      <td>3</td>\n",
              "      <td>1</td>\n",
              "      <td>Gd</td>\n",
              "      <td>6</td>\n",
              "      <td>Typ</td>\n",
              "      <td>1</td>\n",
              "      <td>TA</td>\n",
              "      <td>Attchd</td>\n",
              "      <td>2001.0</td>\n",
              "      <td>RFn</td>\n",
              "      <td>2</td>\n",
              "      <td>608</td>\n",
              "      <td>TA</td>\n",
              "      <td>TA</td>\n",
              "      <td>Y</td>\n",
              "      <td>0</td>\n",
              "      <td>42</td>\n",
              "      <td>0</td>\n",
              "      <td>0</td>\n",
              "      <td>0</td>\n",
              "      <td>0</td>\n",
              "      <td>NaN</td>\n",
              "      <td>NaN</td>\n",
              "      <td>NaN</td>\n",
              "      <td>0</td>\n",
              "      <td>9</td>\n",
              "      <td>2008</td>\n",
              "      <td>WD</td>\n",
              "      <td>Normal</td>\n",
              "      <td>223500</td>\n",
              "    </tr>\n",
              "    <tr>\n",
              "      <th>3</th>\n",
              "      <td>4</td>\n",
              "      <td>70</td>\n",
              "      <td>RL</td>\n",
              "      <td>60.0</td>\n",
              "      <td>9550</td>\n",
              "      <td>Pave</td>\n",
              "      <td>NaN</td>\n",
              "      <td>IR1</td>\n",
              "      <td>Lvl</td>\n",
              "      <td>AllPub</td>\n",
              "      <td>Corner</td>\n",
              "      <td>Gtl</td>\n",
              "      <td>Crawfor</td>\n",
              "      <td>Norm</td>\n",
              "      <td>Norm</td>\n",
              "      <td>1Fam</td>\n",
              "      <td>2Story</td>\n",
              "      <td>7</td>\n",
              "      <td>5</td>\n",
              "      <td>1915</td>\n",
              "      <td>1970</td>\n",
              "      <td>Gable</td>\n",
              "      <td>CompShg</td>\n",
              "      <td>Wd Sdng</td>\n",
              "      <td>Wd Shng</td>\n",
              "      <td>None</td>\n",
              "      <td>0.0</td>\n",
              "      <td>TA</td>\n",
              "      <td>TA</td>\n",
              "      <td>BrkTil</td>\n",
              "      <td>TA</td>\n",
              "      <td>Gd</td>\n",
              "      <td>No</td>\n",
              "      <td>ALQ</td>\n",
              "      <td>216</td>\n",
              "      <td>Unf</td>\n",
              "      <td>0</td>\n",
              "      <td>540</td>\n",
              "      <td>756</td>\n",
              "      <td>GasA</td>\n",
              "      <td>Gd</td>\n",
              "      <td>Y</td>\n",
              "      <td>SBrkr</td>\n",
              "      <td>961</td>\n",
              "      <td>756</td>\n",
              "      <td>0</td>\n",
              "      <td>1717</td>\n",
              "      <td>1</td>\n",
              "      <td>0</td>\n",
              "      <td>1</td>\n",
              "      <td>0</td>\n",
              "      <td>3</td>\n",
              "      <td>1</td>\n",
              "      <td>Gd</td>\n",
              "      <td>7</td>\n",
              "      <td>Typ</td>\n",
              "      <td>1</td>\n",
              "      <td>Gd</td>\n",
              "      <td>Detchd</td>\n",
              "      <td>1998.0</td>\n",
              "      <td>Unf</td>\n",
              "      <td>3</td>\n",
              "      <td>642</td>\n",
              "      <td>TA</td>\n",
              "      <td>TA</td>\n",
              "      <td>Y</td>\n",
              "      <td>0</td>\n",
              "      <td>35</td>\n",
              "      <td>272</td>\n",
              "      <td>0</td>\n",
              "      <td>0</td>\n",
              "      <td>0</td>\n",
              "      <td>NaN</td>\n",
              "      <td>NaN</td>\n",
              "      <td>NaN</td>\n",
              "      <td>0</td>\n",
              "      <td>2</td>\n",
              "      <td>2006</td>\n",
              "      <td>WD</td>\n",
              "      <td>Abnorml</td>\n",
              "      <td>140000</td>\n",
              "    </tr>\n",
              "    <tr>\n",
              "      <th>4</th>\n",
              "      <td>5</td>\n",
              "      <td>60</td>\n",
              "      <td>RL</td>\n",
              "      <td>84.0</td>\n",
              "      <td>14260</td>\n",
              "      <td>Pave</td>\n",
              "      <td>NaN</td>\n",
              "      <td>IR1</td>\n",
              "      <td>Lvl</td>\n",
              "      <td>AllPub</td>\n",
              "      <td>FR2</td>\n",
              "      <td>Gtl</td>\n",
              "      <td>NoRidge</td>\n",
              "      <td>Norm</td>\n",
              "      <td>Norm</td>\n",
              "      <td>1Fam</td>\n",
              "      <td>2Story</td>\n",
              "      <td>8</td>\n",
              "      <td>5</td>\n",
              "      <td>2000</td>\n",
              "      <td>2000</td>\n",
              "      <td>Gable</td>\n",
              "      <td>CompShg</td>\n",
              "      <td>VinylSd</td>\n",
              "      <td>VinylSd</td>\n",
              "      <td>BrkFace</td>\n",
              "      <td>350.0</td>\n",
              "      <td>Gd</td>\n",
              "      <td>TA</td>\n",
              "      <td>PConc</td>\n",
              "      <td>Gd</td>\n",
              "      <td>TA</td>\n",
              "      <td>Av</td>\n",
              "      <td>GLQ</td>\n",
              "      <td>655</td>\n",
              "      <td>Unf</td>\n",
              "      <td>0</td>\n",
              "      <td>490</td>\n",
              "      <td>1145</td>\n",
              "      <td>GasA</td>\n",
              "      <td>Ex</td>\n",
              "      <td>Y</td>\n",
              "      <td>SBrkr</td>\n",
              "      <td>1145</td>\n",
              "      <td>1053</td>\n",
              "      <td>0</td>\n",
              "      <td>2198</td>\n",
              "      <td>1</td>\n",
              "      <td>0</td>\n",
              "      <td>2</td>\n",
              "      <td>1</td>\n",
              "      <td>4</td>\n",
              "      <td>1</td>\n",
              "      <td>Gd</td>\n",
              "      <td>9</td>\n",
              "      <td>Typ</td>\n",
              "      <td>1</td>\n",
              "      <td>TA</td>\n",
              "      <td>Attchd</td>\n",
              "      <td>2000.0</td>\n",
              "      <td>RFn</td>\n",
              "      <td>3</td>\n",
              "      <td>836</td>\n",
              "      <td>TA</td>\n",
              "      <td>TA</td>\n",
              "      <td>Y</td>\n",
              "      <td>192</td>\n",
              "      <td>84</td>\n",
              "      <td>0</td>\n",
              "      <td>0</td>\n",
              "      <td>0</td>\n",
              "      <td>0</td>\n",
              "      <td>NaN</td>\n",
              "      <td>NaN</td>\n",
              "      <td>NaN</td>\n",
              "      <td>0</td>\n",
              "      <td>12</td>\n",
              "      <td>2008</td>\n",
              "      <td>WD</td>\n",
              "      <td>Normal</td>\n",
              "      <td>250000</td>\n",
              "    </tr>\n",
              "  </tbody>\n",
              "</table>\n",
              "</div>"
            ],
            "text/plain": [
              "   Id  MSSubClass MSZoning  LotFrontage  LotArea Street Alley LotShape  \\\n",
              "0   1          60       RL         65.0     8450   Pave   NaN      Reg   \n",
              "1   2          20       RL         80.0     9600   Pave   NaN      Reg   \n",
              "2   3          60       RL         68.0    11250   Pave   NaN      IR1   \n",
              "3   4          70       RL         60.0     9550   Pave   NaN      IR1   \n",
              "4   5          60       RL         84.0    14260   Pave   NaN      IR1   \n",
              "\n",
              "  LandContour Utilities LotConfig LandSlope Neighborhood Condition1  \\\n",
              "0         Lvl    AllPub    Inside       Gtl      CollgCr       Norm   \n",
              "1         Lvl    AllPub       FR2       Gtl      Veenker      Feedr   \n",
              "2         Lvl    AllPub    Inside       Gtl      CollgCr       Norm   \n",
              "3         Lvl    AllPub    Corner       Gtl      Crawfor       Norm   \n",
              "4         Lvl    AllPub       FR2       Gtl      NoRidge       Norm   \n",
              "\n",
              "  Condition2 BldgType HouseStyle  OverallQual  OverallCond  YearBuilt  \\\n",
              "0       Norm     1Fam     2Story            7            5       2003   \n",
              "1       Norm     1Fam     1Story            6            8       1976   \n",
              "2       Norm     1Fam     2Story            7            5       2001   \n",
              "3       Norm     1Fam     2Story            7            5       1915   \n",
              "4       Norm     1Fam     2Story            8            5       2000   \n",
              "\n",
              "   YearRemodAdd RoofStyle RoofMatl Exterior1st Exterior2nd MasVnrType  \\\n",
              "0          2003     Gable  CompShg     VinylSd     VinylSd    BrkFace   \n",
              "1          1976     Gable  CompShg     MetalSd     MetalSd       None   \n",
              "2          2002     Gable  CompShg     VinylSd     VinylSd    BrkFace   \n",
              "3          1970     Gable  CompShg     Wd Sdng     Wd Shng       None   \n",
              "4          2000     Gable  CompShg     VinylSd     VinylSd    BrkFace   \n",
              "\n",
              "   MasVnrArea ExterQual ExterCond Foundation BsmtQual BsmtCond BsmtExposure  \\\n",
              "0       196.0        Gd        TA      PConc       Gd       TA           No   \n",
              "1         0.0        TA        TA     CBlock       Gd       TA           Gd   \n",
              "2       162.0        Gd        TA      PConc       Gd       TA           Mn   \n",
              "3         0.0        TA        TA     BrkTil       TA       Gd           No   \n",
              "4       350.0        Gd        TA      PConc       Gd       TA           Av   \n",
              "\n",
              "  BsmtFinType1  BsmtFinSF1 BsmtFinType2  BsmtFinSF2  BsmtUnfSF  TotalBsmtSF  \\\n",
              "0          GLQ         706          Unf           0        150          856   \n",
              "1          ALQ         978          Unf           0        284         1262   \n",
              "2          GLQ         486          Unf           0        434          920   \n",
              "3          ALQ         216          Unf           0        540          756   \n",
              "4          GLQ         655          Unf           0        490         1145   \n",
              "\n",
              "  Heating HeatingQC CentralAir Electrical  1stFlrSF  2ndFlrSF  LowQualFinSF  \\\n",
              "0    GasA        Ex          Y      SBrkr       856       854             0   \n",
              "1    GasA        Ex          Y      SBrkr      1262         0             0   \n",
              "2    GasA        Ex          Y      SBrkr       920       866             0   \n",
              "3    GasA        Gd          Y      SBrkr       961       756             0   \n",
              "4    GasA        Ex          Y      SBrkr      1145      1053             0   \n",
              "\n",
              "   GrLivArea  BsmtFullBath  BsmtHalfBath  FullBath  HalfBath  BedroomAbvGr  \\\n",
              "0       1710             1             0         2         1             3   \n",
              "1       1262             0             1         2         0             3   \n",
              "2       1786             1             0         2         1             3   \n",
              "3       1717             1             0         1         0             3   \n",
              "4       2198             1             0         2         1             4   \n",
              "\n",
              "   KitchenAbvGr KitchenQual  TotRmsAbvGrd Functional  Fireplaces FireplaceQu  \\\n",
              "0             1          Gd             8        Typ           0         NaN   \n",
              "1             1          TA             6        Typ           1          TA   \n",
              "2             1          Gd             6        Typ           1          TA   \n",
              "3             1          Gd             7        Typ           1          Gd   \n",
              "4             1          Gd             9        Typ           1          TA   \n",
              "\n",
              "  GarageType  GarageYrBlt GarageFinish  GarageCars  GarageArea GarageQual  \\\n",
              "0     Attchd       2003.0          RFn           2         548         TA   \n",
              "1     Attchd       1976.0          RFn           2         460         TA   \n",
              "2     Attchd       2001.0          RFn           2         608         TA   \n",
              "3     Detchd       1998.0          Unf           3         642         TA   \n",
              "4     Attchd       2000.0          RFn           3         836         TA   \n",
              "\n",
              "  GarageCond PavedDrive  WoodDeckSF  OpenPorchSF  EnclosedPorch  3SsnPorch  \\\n",
              "0         TA          Y           0           61              0          0   \n",
              "1         TA          Y         298            0              0          0   \n",
              "2         TA          Y           0           42              0          0   \n",
              "3         TA          Y           0           35            272          0   \n",
              "4         TA          Y         192           84              0          0   \n",
              "\n",
              "   ScreenPorch  PoolArea PoolQC Fence MiscFeature  MiscVal  MoSold  YrSold  \\\n",
              "0            0         0    NaN   NaN         NaN        0       2    2008   \n",
              "1            0         0    NaN   NaN         NaN        0       5    2007   \n",
              "2            0         0    NaN   NaN         NaN        0       9    2008   \n",
              "3            0         0    NaN   NaN         NaN        0       2    2006   \n",
              "4            0         0    NaN   NaN         NaN        0      12    2008   \n",
              "\n",
              "  SaleType SaleCondition  SalePrice  \n",
              "0       WD        Normal     208500  \n",
              "1       WD        Normal     181500  \n",
              "2       WD        Normal     223500  \n",
              "3       WD       Abnorml     140000  \n",
              "4       WD        Normal     250000  "
            ]
          },
          "metadata": {
            "tags": []
          },
          "execution_count": 11
        }
      ]
    },
    {
      "cell_type": "code",
      "metadata": {
        "id": "P_2rF5Y4wvNs",
        "colab_type": "code",
        "colab": {
          "base_uri": "https://localhost:8080/",
          "height": 68
        },
        "outputId": "a4a18607-f8df-4d40-c79c-37646813d8a4"
      },
      "source": [
        "print('The shape of our training set: ',a.shape[0], 'houses', 'and', a.shape[1], 'features')\n",
        "print('The shape of our testing set: ',b.shape[0], 'houses', 'and', b.shape[1], 'features')\n",
        "print('The testing set has 1 feature less than the training set, which is SalePrice, the target to predict  ')"
      ],
      "execution_count": 12,
      "outputs": [
        {
          "output_type": "stream",
          "text": [
            "The shape of our training set:  1460 houses and 81 features\n",
            "The shape of our testing set:  1459 houses and 80 features\n",
            "The testing set has 1 feature less than the training set, which is SalePrice, the target to predict  \n"
          ],
          "name": "stdout"
        }
      ]
    },
    {
      "cell_type": "markdown",
      "metadata": {
        "id": "MOUWheCQw1za",
        "colab_type": "text"
      },
      "source": [
        "# Exploratory data analysis"
      ]
    },
    {
      "cell_type": "markdown",
      "metadata": {
        "id": "-T3BHuqsw1dk",
        "colab_type": "text"
      },
      "source": [
        "Let's have a look first at the correlation between numerical features and the target \"SalePrice\", in order to have a first idea of the connections between features. Just by looking at the heatmap below we can see many light colors, many features have high correlation with the target."
      ]
    },
    {
      "cell_type": "code",
      "metadata": {
        "id": "UGOdLu5Jw7Md",
        "colab_type": "code",
        "colab": {
          "base_uri": "https://localhost:8080/",
          "height": 189
        },
        "outputId": "e11c48f7-924d-48c7-fc27-2c34abc40a3a"
      },
      "source": [
        "num=a.select_dtypes(exclude='object')\n",
        "numcorr=num.corr()\n",
        "f,ax=plt.subplots(figsize=(19,1))\n",
        "sns.heatmap(numcorr.sort_values(by=['SalePrice'], ascending=False).head(1),annot=True, fmt = \".2f\")\n",
        "plt.title(\" Numerical features correlation with the sale price\", weight='bold', fontsize=18)\n",
        "plt.show()\n"
      ],
      "execution_count": 13,
      "outputs": [
        {
          "output_type": "display_data",
          "data": {
            "image/png": "[encoded data removed]",
            "text/plain": [
              "<Figure size 1368x72 with 2 Axes>"
            ]
          },
          "metadata": {
            "tags": []
          }
        }
      ]
    },
    {
      "cell_type": "markdown",
      "metadata": {
        "id": "kLnTRMHWxBr2",
        "colab_type": "text"
      },
      "source": [
        "To have a better idea, we sort the features according to their correlation with the sale price"
      ]
    },
    {
      "cell_type": "code",
      "metadata": {
        "id": "R18U6-s8w8rF",
        "colab_type": "code",
        "colab": {
          "base_uri": "https://localhost:8080/",
          "height": 250
        },
        "outputId": "613009d1-0892-45b4-f3ae-c6424311176c"
      },
      "source": [
        "Num=numcorr['SalePrice'].sort_values(ascending=False).head(10).to_frame()\n",
        "\n",
        "cm = sns.light_palette(\"cyan\", as_cmap=True)\n",
        "\n",
        "s = Num.style.background_gradient(cmap=cm)\n",
        "s"
      ],
      "execution_count": 15,
      "outputs": [
        {
          "output_type": "execute_result",
          "data": {
            "text/html": [
              "<style  type=\"text/css\" >\n",
              "    #T_e9a7c158_f681_11e9_a91a_0242ac1c0002row0_col0 {\n",
              "            background-color:  #00ffff;\n",
              "            color:  #000000;\n",
              "        }    #T_e9a7c158_f681_11e9_a91a_0242ac1c0002row1_col0 {\n",
              "            background-color:  #65ffff;\n",
              "            color:  #000000;\n",
              "        }    #T_e9a7c158_f681_11e9_a91a_0242ac1c0002row2_col0 {\n",
              "            background-color:  #8cffff;\n",
              "            color:  #000000;\n",
              "        }    #T_e9a7c158_f681_11e9_a91a_0242ac1c0002row3_col0 {\n",
              "            background-color:  #adffff;\n",
              "            color:  #000000;\n",
              "        }    #T_e9a7c158_f681_11e9_a91a_0242ac1c0002row4_col0 {\n",
              "            background-color:  #b6ffff;\n",
              "            color:  #000000;\n",
              "        }    #T_e9a7c158_f681_11e9_a91a_0242ac1c0002row5_col0 {\n",
              "            background-color:  #baffff;\n",
              "            color:  #000000;\n",
              "        }    #T_e9a7c158_f681_11e9_a91a_0242ac1c0002row6_col0 {\n",
              "            background-color:  #beffff;\n",
              "            color:  #000000;\n",
              "        }    #T_e9a7c158_f681_11e9_a91a_0242ac1c0002row7_col0 {\n",
              "            background-color:  #d3ffff;\n",
              "            color:  #000000;\n",
              "        }    #T_e9a7c158_f681_11e9_a91a_0242ac1c0002row8_col0 {\n",
              "            background-color:  #e1ffff;\n",
              "            color:  #000000;\n",
              "        }    #T_e9a7c158_f681_11e9_a91a_0242ac1c0002row9_col0 {\n",
              "            background-color:  #e5ffff;\n",
              "            color:  #000000;\n",
              "        }</style><table id=\"T_e9a7c158_f681_11e9_a91a_0242ac1c0002\" ><thead>    <tr>        <th class=\"blank level0\" ></th>        <th class=\"col_heading level0 col0\" >SalePrice</th>    </tr></thead><tbody>\n",
              "                <tr>\n",
              "                        <th id=\"T_e9a7c158_f681_11e9_a91a_0242ac1c0002level0_row0\" class=\"row_heading level0 row0\" >SalePrice</th>\n",
              "                        <td id=\"T_e9a7c158_f681_11e9_a91a_0242ac1c0002row0_col0\" class=\"data row0 col0\" >1</td>\n",
              "            </tr>\n",
              "            <tr>\n",
              "                        <th id=\"T_e9a7c158_f681_11e9_a91a_0242ac1c0002level0_row1\" class=\"row_heading level0 row1\" >OverallQual</th>\n",
              "                        <td id=\"T_e9a7c158_f681_11e9_a91a_0242ac1c0002row1_col0\" class=\"data row1 col0\" >0.790982</td>\n",
              "            </tr>\n",
              "            <tr>\n",
              "                        <th id=\"T_e9a7c158_f681_11e9_a91a_0242ac1c0002level0_row2\" class=\"row_heading level0 row2\" >GrLivArea</th>\n",
              "                        <td id=\"T_e9a7c158_f681_11e9_a91a_0242ac1c0002row2_col0\" class=\"data row2 col0\" >0.708624</td>\n",
              "            </tr>\n",
              "            <tr>\n",
              "                        <th id=\"T_e9a7c158_f681_11e9_a91a_0242ac1c0002level0_row3\" class=\"row_heading level0 row3\" >GarageCars</th>\n",
              "                        <td id=\"T_e9a7c158_f681_11e9_a91a_0242ac1c0002row3_col0\" class=\"data row3 col0\" >0.640409</td>\n",
              "            </tr>\n",
              "            <tr>\n",
              "                        <th id=\"T_e9a7c158_f681_11e9_a91a_0242ac1c0002level0_row4\" class=\"row_heading level0 row4\" >GarageArea</th>\n",
              "                        <td id=\"T_e9a7c158_f681_11e9_a91a_0242ac1c0002row4_col0\" class=\"data row4 col0\" >0.623431</td>\n",
              "            </tr>\n",
              "            <tr>\n",
              "                        <th id=\"T_e9a7c158_f681_11e9_a91a_0242ac1c0002level0_row5\" class=\"row_heading level0 row5\" >TotalBsmtSF</th>\n",
              "                        <td id=\"T_e9a7c158_f681_11e9_a91a_0242ac1c0002row5_col0\" class=\"data row5 col0\" >0.613581</td>\n",
              "            </tr>\n",
              "            <tr>\n",
              "                        <th id=\"T_e9a7c158_f681_11e9_a91a_0242ac1c0002level0_row6\" class=\"row_heading level0 row6\" >1stFlrSF</th>\n",
              "                        <td id=\"T_e9a7c158_f681_11e9_a91a_0242ac1c0002row6_col0\" class=\"data row6 col0\" >0.605852</td>\n",
              "            </tr>\n",
              "            <tr>\n",
              "                        <th id=\"T_e9a7c158_f681_11e9_a91a_0242ac1c0002level0_row7\" class=\"row_heading level0 row7\" >FullBath</th>\n",
              "                        <td id=\"T_e9a7c158_f681_11e9_a91a_0242ac1c0002row7_col0\" class=\"data row7 col0\" >0.560664</td>\n",
              "            </tr>\n",
              "            <tr>\n",
              "                        <th id=\"T_e9a7c158_f681_11e9_a91a_0242ac1c0002level0_row8\" class=\"row_heading level0 row8\" >TotRmsAbvGrd</th>\n",
              "                        <td id=\"T_e9a7c158_f681_11e9_a91a_0242ac1c0002row8_col0\" class=\"data row8 col0\" >0.533723</td>\n",
              "            </tr>\n",
              "            <tr>\n",
              "                        <th id=\"T_e9a7c158_f681_11e9_a91a_0242ac1c0002level0_row9\" class=\"row_heading level0 row9\" >YearBuilt</th>\n",
              "                        <td id=\"T_e9a7c158_f681_11e9_a91a_0242ac1c0002row9_col0\" class=\"data row9 col0\" >0.522897</td>\n",
              "            </tr>\n",
              "    </tbody></table>"
            ],
            "text/plain": [
              "<pandas.io.formats.style.Styler at 0x7f93904a7be0>"
            ]
          },
          "metadata": {
            "tags": []
          },
          "execution_count": 15
        }
      ]
    },
    {
      "cell_type": "markdown",
      "metadata": {
        "id": "dkQC-AwhxIc0",
        "colab_type": "text"
      },
      "source": [
        "Interesting! The overall quality, the living area, basement area, garage cars and garage area have the highest correlation values with the sale price, which is logical, better quality and bigger area = Higher price.\n",
        "* Also some features such as, full bath or 1st floor surface have a higher correlation, those are luxury features, more luxury = Higher price.\n",
        "* and Year built, the newer buildings seem to have higher sale prices.\n",
        "\n",
        "Let's dig in more into the data, those are just the numerical features. I assume that categorical features will be very important, for example, the neighborhood feature will be important, maybe the most important, given that good locations nowadays cost good money.\n",
        "\n",
        "* But before going any futher, we start by cleaning the data from missing values"
      ]
    },
    {
      "cell_type": "code",
      "metadata": {
        "id": "VyNC6CHLxANV",
        "colab_type": "code",
        "colab": {
          "base_uri": "https://localhost:8080/",
          "height": 581
        },
        "outputId": "5ab2feec-5274-4fff-ae47-0ec2a6cd7af2"
      },
      "source": [
        "plt.style.use('seaborn')\n",
        "sns.set_style('whitegrid')\n",
        "\n",
        "plt.subplots(0,0,figsize=(15,3))\n",
        "\n",
        "\n",
        "a.isnull().mean().sort_values(ascending=False).plot.bar(color='black')\n",
        "plt.axhline(y=0.1, color='r', linestyle='-')\n",
        "plt.title('Missing values average per column: Train set', fontsize=20, weight='bold' )\n",
        "plt.show()\n",
        "\n",
        "plt.subplots(1,0,figsize=(15,3))\n",
        "b.isnull().mean().sort_values(ascending=False).plot.bar(color='black')\n",
        "plt.axhline(y=0.1, color='r', linestyle='-')\n",
        "plt.title('Missing values average per column: Test set ', fontsize=20, weight='bold' )\n",
        "plt.show()"
      ],
      "execution_count": 16,
      "outputs": [
        {
          "output_type": "display_data",
          "data": {
            "image/png": "[encoded data removed]",
            "text/plain": [
              "<Figure size 1080x216 with 1 Axes>"
            ]
          },
          "metadata": {
            "tags": []
          }
        },
        {
          "output_type": "display_data",
          "data": {
            "image/png": "[encoded data removed]",
            "text/plain": [
              "<Figure size 1080x216 with 1 Axes>"
            ]
          },
          "metadata": {
            "tags": []
          }
        }
      ]
    },
    {
      "cell_type": "markdown",
      "metadata": {
        "id": "8lg5bZxrxO3A",
        "colab_type": "text"
      },
      "source": [
        "* Good news! Most of the features are clean from missing values\n",
        "\n",
        "* We combine first the train and test datasets to run all the data munging and feature engineering on both of them."
      ]
    },
    {
      "cell_type": "code",
      "metadata": {
        "id": "s-0YSaO2xKTc",
        "colab_type": "code",
        "colab": {
          "base_uri": "https://localhost:8080/",
          "height": 34
        },
        "outputId": "7f174291-75db-4028-9953-ffe32fe24b30"
      },
      "source": [
        "na = a.shape[0]\n",
        "nb = b.shape[0]\n",
        "y_train = a['SalePrice'].to_frame()\n",
        "#Combine train and test sets\n",
        "c1 = pd.concat((a, b), sort=False).reset_index(drop=True)\n",
        "#Drop the target \"SalePrice\" and Id columns\n",
        "c1.drop(['SalePrice'], axis=1, inplace=True)\n",
        "c1.drop(['Id'], axis=1, inplace=True)\n",
        "print(\"Total size is :\",c1.shape)"
      ],
      "execution_count": 17,
      "outputs": [
        {
          "output_type": "stream",
          "text": [
            "Total size is : (2919, 79)\n"
          ],
          "name": "stdout"
        }
      ]
    },
    {
      "cell_type": "markdown",
      "metadata": {
        "id": "tVMjWuIoxVJs",
        "colab_type": "text"
      },
      "source": [
        "# Data cleaning"
      ]
    },
    {
      "cell_type": "markdown",
      "metadata": {
        "id": "XnZJm0ytxi8I",
        "colab_type": "text"
      },
      "source": [
        "* First thing to do is get rid of the features with more than 90% missing values. For example the PoolQC's missing values are probably due to the lack of pools in some buildings, which is very logical. But replacing those (more than 90%) missing values with \"no pool\" will leave us with a feature with low variance, and low variance features are uniformative for machine learning models. So we drop the features with more than 90% missing values."
      ]
    },
    {
      "cell_type": "code",
      "metadata": {
        "id": "MwVp3hzRxStE",
        "colab_type": "code",
        "colab": {
          "base_uri": "https://localhost:8080/",
          "height": 34
        },
        "outputId": "c3656365-f0fa-47ca-87d9-ee3b4943c230"
      },
      "source": [
        "c=c1.dropna(thresh=len(c1)*0.9, axis=1)\n",
        "print('We dropped ',c1.shape[1]-c.shape[1], ' features in the combined set')"
      ],
      "execution_count": 18,
      "outputs": [
        {
          "output_type": "stream",
          "text": [
            "We dropped  6  features in the combined set\n"
          ],
          "name": "stdout"
        }
      ]
    },
    {
      "cell_type": "markdown",
      "metadata": {
        "id": "VUOeu_p-xnqW",
        "colab_type": "text"
      },
      "source": [
        "Before cleaning the data, we zoom at the features with missing values, those missing values won't be treated iqually. Some features have barely 1 or 2 missing values, we will use the forward fill method to fill them."
      ]
    },
    {
      "cell_type": "code",
      "metadata": {
        "id": "ZgcImhRaxlWd",
        "colab_type": "code",
        "colab": {
          "base_uri": "https://localhost:8080/",
          "height": 508
        },
        "outputId": "9f72d692-e73a-45cd-f417-6c19f7f4d6fb"
      },
      "source": [
        "allna = (c.isnull().sum() / len(c))\n",
        "allna = allna.drop(allna[allna == 0].index).sort_values(ascending=False)\n",
        "plt.figure(figsize=(12, 8))\n",
        "allna.plot.barh(color='purple')\n",
        "plt.title('Missing values average per column', fontsize=25, weight='bold' )\n",
        "plt.show()"
      ],
      "execution_count": 19,
      "outputs": [
        {
          "output_type": "display_data",
          "data": {
            "image/png": "[encoded data removed]",
            "text/plain": [
              "<Figure size 864x576 with 1 Axes>"
            ]
          },
          "metadata": {
            "tags": []
          }
        }
      ]
    },
    {
      "cell_type": "code",
      "metadata": {
        "id": "CbdOwdl8xqFl",
        "colab_type": "code",
        "colab": {
          "base_uri": "https://localhost:8080/",
          "height": 34
        },
        "outputId": "7de448d3-9c6d-4fe1-c0c2-910cdcedea73"
      },
      "source": [
        "print('The shape of the combined dataset after dropping features with more than 90% M.V.', c.shape)"
      ],
      "execution_count": 20,
      "outputs": [
        {
          "output_type": "stream",
          "text": [
            "The shape of the combined dataset after dropping features with more than 90% M.V. (2919, 73)\n"
          ],
          "name": "stdout"
        }
      ]
    },
    {
      "cell_type": "markdown",
      "metadata": {
        "id": "WbcxxDRExvbW",
        "colab_type": "text"
      },
      "source": [
        "We isolate the missing values from the rest of the dataset to have a good idea of how to treat them"
      ]
    },
    {
      "cell_type": "code",
      "metadata": {
        "id": "P8qB6MrMxsw2",
        "colab_type": "code",
        "colab": {}
      },
      "source": [
        "NA=c[['GarageType', 'GarageFinish', 'GarageQual', 'GarageCond','GarageYrBlt','BsmtFinType2','BsmtFinType1','BsmtCond', \\\n",
        "      'BsmtQual','BsmtExposure', 'MasVnrArea','MasVnrType','Electrical','MSZoning','BsmtFullBath','BsmtHalfBath','Utilities',\\\n",
        "      'Functional','Exterior1st','BsmtUnfSF','Exterior2nd','TotalBsmtSF','GarageArea','GarageCars','KitchenQual','BsmtFinSF2','BsmtFinSF1','SaleType']]"
      ],
      "execution_count": 0,
      "outputs": []
    },
    {
      "cell_type": "markdown",
      "metadata": {
        "id": "B_8SvhmYxyVv",
        "colab_type": "text"
      },
      "source": [
        "We split them to:\n",
        "* Categorical features\n",
        "* Numerical features"
      ]
    },
    {
      "cell_type": "code",
      "metadata": {
        "id": "on-eslN7xysr",
        "colab_type": "code",
        "colab": {
          "base_uri": "https://localhost:8080/",
          "height": 51
        },
        "outputId": "08797392-5f3e-4532-855d-202c3361b791"
      },
      "source": [
        "NAcat=NA.select_dtypes(include='object')\n",
        "NAnum=NA.select_dtypes(exclude='object')\n",
        "print('We have :',NAcat.shape[1],'categorical features with missing values')\n",
        "print('We have :',NAnum.shape[1],'numerical features with missing values')"
      ],
      "execution_count": 23,
      "outputs": [
        {
          "output_type": "stream",
          "text": [
            "We have : 18 categorical features with missing values\n",
            "We have : 10 numerical features with missing values\n"
          ],
          "name": "stdout"
        }
      ]
    },
    {
      "cell_type": "markdown",
      "metadata": {
        "id": "V7sbThIwx738",
        "colab_type": "text"
      },
      "source": [
        "So, 18 categorical features and 10 numerical features to clean.\n",
        "* We start with the numerical features, first thing to do is have a look at them to learn more about their distribution and decide how to clean them:\n",
        "- Most of the features are going to be filled with 0s because we assume that they don't exist, for example GarageArea, GarageCars with missing values are simply because the house lacks a garage.\n",
        "- GarageYrBlt: Year garage was built can't be filled with 0s, so we fill with the median (1980)."
      ]
    },
    {
      "cell_type": "code",
      "metadata": {
        "id": "OSe-LhtOx5m0",
        "colab_type": "code",
        "colab": {
          "base_uri": "https://localhost:8080/",
          "height": 204
        },
        "outputId": "0752975c-18cc-4fd5-faa7-6ce324c1e736"
      },
      "source": [
        "NAnum.head()"
      ],
      "execution_count": 24,
      "outputs": [
        {
          "output_type": "execute_result",
          "data": {
            "text/html": [
              "<div>\n",
              "<style scoped>\n",
              "    .dataframe tbody tr th:only-of-type {\n",
              "        vertical-align: middle;\n",
              "    }\n",
              "\n",
              "    .dataframe tbody tr th {\n",
              "        vertical-align: top;\n",
              "    }\n",
              "\n",
              "    .dataframe thead th {\n",
              "        text-align: right;\n",
              "    }\n",
              "</style>\n",
              "<table border=\"1\" class=\"dataframe\">\n",
              "  <thead>\n",
              "    <tr style=\"text-align: right;\">\n",
              "      <th></th>\n",
              "      <th>GarageYrBlt</th>\n",
              "      <th>MasVnrArea</th>\n",
              "      <th>BsmtFullBath</th>\n",
              "      <th>BsmtHalfBath</th>\n",
              "      <th>BsmtUnfSF</th>\n",
              "      <th>TotalBsmtSF</th>\n",
              "      <th>GarageArea</th>\n",
              "      <th>GarageCars</th>\n",
              "      <th>BsmtFinSF2</th>\n",
              "      <th>BsmtFinSF1</th>\n",
              "    </tr>\n",
              "  </thead>\n",
              "  <tbody>\n",
              "    <tr>\n",
              "      <th>0</th>\n",
              "      <td>2003.0</td>\n",
              "      <td>196.0</td>\n",
              "      <td>1.0</td>\n",
              "      <td>0.0</td>\n",
              "      <td>150.0</td>\n",
              "      <td>856.0</td>\n",
              "      <td>548.0</td>\n",
              "      <td>2.0</td>\n",
              "      <td>0.0</td>\n",
              "      <td>706.0</td>\n",
              "    </tr>\n",
              "    <tr>\n",
              "      <th>1</th>\n",
              "      <td>1976.0</td>\n",
              "      <td>0.0</td>\n",
              "      <td>0.0</td>\n",
              "      <td>1.0</td>\n",
              "      <td>284.0</td>\n",
              "      <td>1262.0</td>\n",
              "      <td>460.0</td>\n",
              "      <td>2.0</td>\n",
              "      <td>0.0</td>\n",
              "      <td>978.0</td>\n",
              "    </tr>\n",
              "    <tr>\n",
              "      <th>2</th>\n",
              "      <td>2001.0</td>\n",
              "      <td>162.0</td>\n",
              "      <td>1.0</td>\n",
              "      <td>0.0</td>\n",
              "      <td>434.0</td>\n",
              "      <td>920.0</td>\n",
              "      <td>608.0</td>\n",
              "      <td>2.0</td>\n",
              "      <td>0.0</td>\n",
              "      <td>486.0</td>\n",
              "    </tr>\n",
              "    <tr>\n",
              "      <th>3</th>\n",
              "      <td>1998.0</td>\n",
              "      <td>0.0</td>\n",
              "      <td>1.0</td>\n",
              "      <td>0.0</td>\n",
              "      <td>540.0</td>\n",
              "      <td>756.0</td>\n",
              "      <td>642.0</td>\n",
              "      <td>3.0</td>\n",
              "      <td>0.0</td>\n",
              "      <td>216.0</td>\n",
              "    </tr>\n",
              "    <tr>\n",
              "      <th>4</th>\n",
              "      <td>2000.0</td>\n",
              "      <td>350.0</td>\n",
              "      <td>1.0</td>\n",
              "      <td>0.0</td>\n",
              "      <td>490.0</td>\n",
              "      <td>1145.0</td>\n",
              "      <td>836.0</td>\n",
              "      <td>3.0</td>\n",
              "      <td>0.0</td>\n",
              "      <td>655.0</td>\n",
              "    </tr>\n",
              "  </tbody>\n",
              "</table>\n",
              "</div>"
            ],
            "text/plain": [
              "   GarageYrBlt  MasVnrArea  BsmtFullBath  BsmtHalfBath  BsmtUnfSF  \\\n",
              "0       2003.0       196.0           1.0           0.0      150.0   \n",
              "1       1976.0         0.0           0.0           1.0      284.0   \n",
              "2       2001.0       162.0           1.0           0.0      434.0   \n",
              "3       1998.0         0.0           1.0           0.0      540.0   \n",
              "4       2000.0       350.0           1.0           0.0      490.0   \n",
              "\n",
              "   TotalBsmtSF  GarageArea  GarageCars  BsmtFinSF2  BsmtFinSF1  \n",
              "0        856.0       548.0         2.0         0.0       706.0  \n",
              "1       1262.0       460.0         2.0         0.0       978.0  \n",
              "2        920.0       608.0         2.0         0.0       486.0  \n",
              "3        756.0       642.0         3.0         0.0       216.0  \n",
              "4       1145.0       836.0         3.0         0.0       655.0  "
            ]
          },
          "metadata": {
            "tags": []
          },
          "execution_count": 24
        }
      ]
    },
    {
      "cell_type": "code",
      "metadata": {
        "id": "44Vlejklx9i0",
        "colab_type": "code",
        "colab": {}
      },
      "source": [
        "#MasVnrArea: Masonry veneer area in square feet, the missing data means no veneer so we fill with 0\n",
        "c['MasVnrArea']=c.MasVnrArea.fillna(0)\n",
        "#GarageYrBlt:  Year garage was built, we fill the gaps with the median: 1980\n",
        "c['GarageYrBlt']=c[\"GarageYrBlt\"].fillna(1980)\n",
        "#For the rest of the columns: Bathroom, half bathroom, basement related columns and garage related columns:\n",
        "#We will fill with 0s because they just mean that the hosue doesn't have a basement, bathrooms or a garage"
      ],
      "execution_count": 0,
      "outputs": []
    },
    {
      "cell_type": "markdown",
      "metadata": {
        "id": "eYA4Gd0wyF03",
        "colab_type": "text"
      },
      "source": [
        "And we have 18 Categorical features with missing values:\n",
        "* Some features have just 1 or 2 missing values, so we will just use the forward fill method because they are obviously values that can't be filled with 'None's\n",
        "* Features with many missing values are mostly basement and garage related (same as in numerical features) so as we did with numerical features (filling them with 0s), we will fill the categorical missing values with \"None\"s assuming that the houses lack basements and garages."
      ]
    },
    {
      "cell_type": "code",
      "metadata": {
        "id": "IQ6AFCUKx-rz",
        "colab_type": "code",
        "colab": {
          "base_uri": "https://localhost:8080/",
          "height": 224
        },
        "outputId": "3357a4df-1bec-488c-e762-48f8f7fe748a"
      },
      "source": [
        "NAcat.head()"
      ],
      "execution_count": 27,
      "outputs": [
        {
          "output_type": "execute_result",
          "data": {
            "text/html": [
              "<div>\n",
              "<style scoped>\n",
              "    .dataframe tbody tr th:only-of-type {\n",
              "        vertical-align: middle;\n",
              "    }\n",
              "\n",
              "    .dataframe tbody tr th {\n",
              "        vertical-align: top;\n",
              "    }\n",
              "\n",
              "    .dataframe thead th {\n",
              "        text-align: right;\n",
              "    }\n",
              "</style>\n",
              "<table border=\"1\" class=\"dataframe\">\n",
              "  <thead>\n",
              "    <tr style=\"text-align: right;\">\n",
              "      <th></th>\n",
              "      <th>GarageType</th>\n",
              "      <th>GarageFinish</th>\n",
              "      <th>GarageQual</th>\n",
              "      <th>GarageCond</th>\n",
              "      <th>BsmtFinType2</th>\n",
              "      <th>BsmtFinType1</th>\n",
              "      <th>BsmtCond</th>\n",
              "      <th>BsmtQual</th>\n",
              "      <th>BsmtExposure</th>\n",
              "      <th>MasVnrType</th>\n",
              "      <th>Electrical</th>\n",
              "      <th>MSZoning</th>\n",
              "      <th>Utilities</th>\n",
              "      <th>Functional</th>\n",
              "      <th>Exterior1st</th>\n",
              "      <th>Exterior2nd</th>\n",
              "      <th>KitchenQual</th>\n",
              "      <th>SaleType</th>\n",
              "    </tr>\n",
              "  </thead>\n",
              "  <tbody>\n",
              "    <tr>\n",
              "      <th>0</th>\n",
              "      <td>Attchd</td>\n",
              "      <td>RFn</td>\n",
              "      <td>TA</td>\n",
              "      <td>TA</td>\n",
              "      <td>Unf</td>\n",
              "      <td>GLQ</td>\n",
              "      <td>TA</td>\n",
              "      <td>Gd</td>\n",
              "      <td>No</td>\n",
              "      <td>BrkFace</td>\n",
              "      <td>SBrkr</td>\n",
              "      <td>RL</td>\n",
              "      <td>AllPub</td>\n",
              "      <td>Typ</td>\n",
              "      <td>VinylSd</td>\n",
              "      <td>VinylSd</td>\n",
              "      <td>Gd</td>\n",
              "      <td>WD</td>\n",
              "    </tr>\n",
              "    <tr>\n",
              "      <th>1</th>\n",
              "      <td>Attchd</td>\n",
              "      <td>RFn</td>\n",
              "      <td>TA</td>\n",
              "      <td>TA</td>\n",
              "      <td>Unf</td>\n",
              "      <td>ALQ</td>\n",
              "      <td>TA</td>\n",
              "      <td>Gd</td>\n",
              "      <td>Gd</td>\n",
              "      <td>None</td>\n",
              "      <td>SBrkr</td>\n",
              "      <td>RL</td>\n",
              "      <td>AllPub</td>\n",
              "      <td>Typ</td>\n",
              "      <td>MetalSd</td>\n",
              "      <td>MetalSd</td>\n",
              "      <td>TA</td>\n",
              "      <td>WD</td>\n",
              "    </tr>\n",
              "    <tr>\n",
              "      <th>2</th>\n",
              "      <td>Attchd</td>\n",
              "      <td>RFn</td>\n",
              "      <td>TA</td>\n",
              "      <td>TA</td>\n",
              "      <td>Unf</td>\n",
              "      <td>GLQ</td>\n",
              "      <td>TA</td>\n",
              "      <td>Gd</td>\n",
              "      <td>Mn</td>\n",
              "      <td>BrkFace</td>\n",
              "      <td>SBrkr</td>\n",
              "      <td>RL</td>\n",
              "      <td>AllPub</td>\n",
              "      <td>Typ</td>\n",
              "      <td>VinylSd</td>\n",
              "      <td>VinylSd</td>\n",
              "      <td>Gd</td>\n",
              "      <td>WD</td>\n",
              "    </tr>\n",
              "    <tr>\n",
              "      <th>3</th>\n",
              "      <td>Detchd</td>\n",
              "      <td>Unf</td>\n",
              "      <td>TA</td>\n",
              "      <td>TA</td>\n",
              "      <td>Unf</td>\n",
              "      <td>ALQ</td>\n",
              "      <td>Gd</td>\n",
              "      <td>TA</td>\n",
              "      <td>No</td>\n",
              "      <td>None</td>\n",
              "      <td>SBrkr</td>\n",
              "      <td>RL</td>\n",
              "      <td>AllPub</td>\n",
              "      <td>Typ</td>\n",
              "      <td>Wd Sdng</td>\n",
              "      <td>Wd Shng</td>\n",
              "      <td>Gd</td>\n",
              "      <td>WD</td>\n",
              "    </tr>\n",
              "    <tr>\n",
              "      <th>4</th>\n",
              "      <td>Attchd</td>\n",
              "      <td>RFn</td>\n",
              "      <td>TA</td>\n",
              "      <td>TA</td>\n",
              "      <td>Unf</td>\n",
              "      <td>GLQ</td>\n",
              "      <td>TA</td>\n",
              "      <td>Gd</td>\n",
              "      <td>Av</td>\n",
              "      <td>BrkFace</td>\n",
              "      <td>SBrkr</td>\n",
              "      <td>RL</td>\n",
              "      <td>AllPub</td>\n",
              "      <td>Typ</td>\n",
              "      <td>VinylSd</td>\n",
              "      <td>VinylSd</td>\n",
              "      <td>Gd</td>\n",
              "      <td>WD</td>\n",
              "    </tr>\n",
              "  </tbody>\n",
              "</table>\n",
              "</div>"
            ],
            "text/plain": [
              "  GarageType GarageFinish GarageQual GarageCond BsmtFinType2 BsmtFinType1  \\\n",
              "0     Attchd          RFn         TA         TA          Unf          GLQ   \n",
              "1     Attchd          RFn         TA         TA          Unf          ALQ   \n",
              "2     Attchd          RFn         TA         TA          Unf          GLQ   \n",
              "3     Detchd          Unf         TA         TA          Unf          ALQ   \n",
              "4     Attchd          RFn         TA         TA          Unf          GLQ   \n",
              "\n",
              "  BsmtCond BsmtQual BsmtExposure MasVnrType Electrical MSZoning Utilities  \\\n",
              "0       TA       Gd           No    BrkFace      SBrkr       RL    AllPub   \n",
              "1       TA       Gd           Gd       None      SBrkr       RL    AllPub   \n",
              "2       TA       Gd           Mn    BrkFace      SBrkr       RL    AllPub   \n",
              "3       Gd       TA           No       None      SBrkr       RL    AllPub   \n",
              "4       TA       Gd           Av    BrkFace      SBrkr       RL    AllPub   \n",
              "\n",
              "  Functional Exterior1st Exterior2nd KitchenQual SaleType  \n",
              "0        Typ     VinylSd     VinylSd          Gd       WD  \n",
              "1        Typ     MetalSd     MetalSd          TA       WD  \n",
              "2        Typ     VinylSd     VinylSd          Gd       WD  \n",
              "3        Typ     Wd Sdng     Wd Shng          Gd       WD  \n",
              "4        Typ     VinylSd     VinylSd          Gd       WD  "
            ]
          },
          "metadata": {
            "tags": []
          },
          "execution_count": 27
        }
      ]
    },
    {
      "cell_type": "code",
      "metadata": {
        "id": "IUH8F2XEyIyF",
        "colab_type": "code",
        "colab": {
          "base_uri": "https://localhost:8080/",
          "height": 81
        },
        "outputId": "ed00c912-bb5f-48b7-cbbf-db2e1c2ac21c"
      },
      "source": [
        "NAcat1= NAcat.isnull().sum().to_frame().sort_values(by=[0]).T\n",
        "cm = sns.light_palette(\"lime\", as_cmap=True)\n",
        "\n",
        "NAcat1 = NAcat1.style.background_gradient(cmap=cm)\n",
        "NAcat1"
      ],
      "execution_count": 28,
      "outputs": [
        {
          "output_type": "execute_result",
          "data": {
            "text/html": [
              "<style  type=\"text/css\" >\n",
              "    #T_90a8f0f8_f682_11e9_a91a_0242ac1c0002row0_col0 {\n",
              "            background-color:  #e5ffe5;\n",
              "            color:  #000000;\n",
              "        }    #T_90a8f0f8_f682_11e9_a91a_0242ac1c0002row0_col1 {\n",
              "            background-color:  #e5ffe5;\n",
              "            color:  #000000;\n",
              "        }    #T_90a8f0f8_f682_11e9_a91a_0242ac1c0002row0_col2 {\n",
              "            background-color:  #e5ffe5;\n",
              "            color:  #000000;\n",
              "        }    #T_90a8f0f8_f682_11e9_a91a_0242ac1c0002row0_col3 {\n",
              "            background-color:  #e5ffe5;\n",
              "            color:  #000000;\n",
              "        }    #T_90a8f0f8_f682_11e9_a91a_0242ac1c0002row0_col4 {\n",
              "            background-color:  #e5ffe5;\n",
              "            color:  #000000;\n",
              "        }    #T_90a8f0f8_f682_11e9_a91a_0242ac1c0002row0_col5 {\n",
              "            background-color:  #e5ffe5;\n",
              "            color:  #000000;\n",
              "        }    #T_90a8f0f8_f682_11e9_a91a_0242ac1c0002row0_col6 {\n",
              "            background-color:  #e5ffe5;\n",
              "            color:  #000000;\n",
              "        }    #T_90a8f0f8_f682_11e9_a91a_0242ac1c0002row0_col7 {\n",
              "            background-color:  #e5ffe5;\n",
              "            color:  #000000;\n",
              "        }    #T_90a8f0f8_f682_11e9_a91a_0242ac1c0002row0_col8 {\n",
              "            background-color:  #e5ffe5;\n",
              "            color:  #000000;\n",
              "        }    #T_90a8f0f8_f682_11e9_a91a_0242ac1c0002row0_col9 {\n",
              "            background-color:  #e5ffe5;\n",
              "            color:  #000000;\n",
              "        }    #T_90a8f0f8_f682_11e9_a91a_0242ac1c0002row0_col10 {\n",
              "            background-color:  #e5ffe5;\n",
              "            color:  #000000;\n",
              "        }    #T_90a8f0f8_f682_11e9_a91a_0242ac1c0002row0_col11 {\n",
              "            background-color:  #e5ffe5;\n",
              "            color:  #000000;\n",
              "        }    #T_90a8f0f8_f682_11e9_a91a_0242ac1c0002row0_col12 {\n",
              "            background-color:  #e5ffe5;\n",
              "            color:  #000000;\n",
              "        }    #T_90a8f0f8_f682_11e9_a91a_0242ac1c0002row0_col13 {\n",
              "            background-color:  #e5ffe5;\n",
              "            color:  #000000;\n",
              "        }    #T_90a8f0f8_f682_11e9_a91a_0242ac1c0002row0_col14 {\n",
              "            background-color:  #e5ffe5;\n",
              "            color:  #000000;\n",
              "        }    #T_90a8f0f8_f682_11e9_a91a_0242ac1c0002row0_col15 {\n",
              "            background-color:  #e5ffe5;\n",
              "            color:  #000000;\n",
              "        }    #T_90a8f0f8_f682_11e9_a91a_0242ac1c0002row0_col16 {\n",
              "            background-color:  #e5ffe5;\n",
              "            color:  #000000;\n",
              "        }    #T_90a8f0f8_f682_11e9_a91a_0242ac1c0002row0_col17 {\n",
              "            background-color:  #e5ffe5;\n",
              "            color:  #000000;\n",
              "        }</style><table id=\"T_90a8f0f8_f682_11e9_a91a_0242ac1c0002\" ><thead>    <tr>        <th class=\"blank level0\" ></th>        <th class=\"col_heading level0 col0\" >SaleType</th>        <th class=\"col_heading level0 col1\" >Exterior2nd</th>        <th class=\"col_heading level0 col2\" >Exterior1st</th>        <th class=\"col_heading level0 col3\" >KitchenQual</th>        <th class=\"col_heading level0 col4\" >Electrical</th>        <th class=\"col_heading level0 col5\" >Functional</th>        <th class=\"col_heading level0 col6\" >Utilities</th>        <th class=\"col_heading level0 col7\" >MSZoning</th>        <th class=\"col_heading level0 col8\" >MasVnrType</th>        <th class=\"col_heading level0 col9\" >BsmtFinType1</th>        <th class=\"col_heading level0 col10\" >BsmtFinType2</th>        <th class=\"col_heading level0 col11\" >BsmtQual</th>        <th class=\"col_heading level0 col12\" >BsmtExposure</th>        <th class=\"col_heading level0 col13\" >BsmtCond</th>        <th class=\"col_heading level0 col14\" >GarageType</th>        <th class=\"col_heading level0 col15\" >GarageCond</th>        <th class=\"col_heading level0 col16\" >GarageQual</th>        <th class=\"col_heading level0 col17\" >GarageFinish</th>    </tr></thead><tbody>\n",
              "                <tr>\n",
              "                        <th id=\"T_90a8f0f8_f682_11e9_a91a_0242ac1c0002level0_row0\" class=\"row_heading level0 row0\" >0</th>\n",
              "                        <td id=\"T_90a8f0f8_f682_11e9_a91a_0242ac1c0002row0_col0\" class=\"data row0 col0\" >1</td>\n",
              "                        <td id=\"T_90a8f0f8_f682_11e9_a91a_0242ac1c0002row0_col1\" class=\"data row0 col1\" >1</td>\n",
              "                        <td id=\"T_90a8f0f8_f682_11e9_a91a_0242ac1c0002row0_col2\" class=\"data row0 col2\" >1</td>\n",
              "                        <td id=\"T_90a8f0f8_f682_11e9_a91a_0242ac1c0002row0_col3\" class=\"data row0 col3\" >1</td>\n",
              "                        <td id=\"T_90a8f0f8_f682_11e9_a91a_0242ac1c0002row0_col4\" class=\"data row0 col4\" >1</td>\n",
              "                        <td id=\"T_90a8f0f8_f682_11e9_a91a_0242ac1c0002row0_col5\" class=\"data row0 col5\" >2</td>\n",
              "                        <td id=\"T_90a8f0f8_f682_11e9_a91a_0242ac1c0002row0_col6\" class=\"data row0 col6\" >2</td>\n",
              "                        <td id=\"T_90a8f0f8_f682_11e9_a91a_0242ac1c0002row0_col7\" class=\"data row0 col7\" >4</td>\n",
              "                        <td id=\"T_90a8f0f8_f682_11e9_a91a_0242ac1c0002row0_col8\" class=\"data row0 col8\" >24</td>\n",
              "                        <td id=\"T_90a8f0f8_f682_11e9_a91a_0242ac1c0002row0_col9\" class=\"data row0 col9\" >79</td>\n",
              "                        <td id=\"T_90a8f0f8_f682_11e9_a91a_0242ac1c0002row0_col10\" class=\"data row0 col10\" >80</td>\n",
              "                        <td id=\"T_90a8f0f8_f682_11e9_a91a_0242ac1c0002row0_col11\" class=\"data row0 col11\" >81</td>\n",
              "                        <td id=\"T_90a8f0f8_f682_11e9_a91a_0242ac1c0002row0_col12\" class=\"data row0 col12\" >82</td>\n",
              "                        <td id=\"T_90a8f0f8_f682_11e9_a91a_0242ac1c0002row0_col13\" class=\"data row0 col13\" >82</td>\n",
              "                        <td id=\"T_90a8f0f8_f682_11e9_a91a_0242ac1c0002row0_col14\" class=\"data row0 col14\" >157</td>\n",
              "                        <td id=\"T_90a8f0f8_f682_11e9_a91a_0242ac1c0002row0_col15\" class=\"data row0 col15\" >159</td>\n",
              "                        <td id=\"T_90a8f0f8_f682_11e9_a91a_0242ac1c0002row0_col16\" class=\"data row0 col16\" >159</td>\n",
              "                        <td id=\"T_90a8f0f8_f682_11e9_a91a_0242ac1c0002row0_col17\" class=\"data row0 col17\" >159</td>\n",
              "            </tr>\n",
              "    </tbody></table>"
            ],
            "text/plain": [
              "<pandas.io.formats.style.Styler at 0x7f938e27f8d0>"
            ]
          },
          "metadata": {
            "tags": []
          },
          "execution_count": 28
        }
      ]
    },
    {
      "cell_type": "code",
      "metadata": {
        "id": "iuVYE_KcyKB0",
        "colab_type": "code",
        "colab": {}
      },
      "source": [
        "#We start with features having just few missing value:  We fill the gap with forward fill method:\n",
        "c['Electrical']=c['Electrical'].fillna(method='ffill')\n",
        "c['SaleType']=c['SaleType'].fillna(method='ffill')\n",
        "c['KitchenQual']=c['KitchenQual'].fillna(method='ffill')\n",
        "c['Exterior1st']=c['Exterior1st'].fillna(method='ffill')\n",
        "c['Exterior2nd']=c['Exterior2nd'].fillna(method='ffill')\n",
        "c['Functional']=c['Functional'].fillna(method='ffill')\n",
        "c['Utilities']=c['Utilities'].fillna(method='ffill')\n",
        "c['MSZoning']=c['MSZoning'].fillna(method='ffill')"
      ],
      "execution_count": 0,
      "outputs": []
    },
    {
      "cell_type": "markdown",
      "metadata": {
        "id": "HfnDr6xOyP7D",
        "colab_type": "text"
      },
      "source": [
        "* We dealt already with small missing values or values that can't be filled with \"0\" such as Garage year built.\n",
        "* The rest of the features are mostly basement and garage related with 100s of missing values, we will just fill 0s in the numerical features and 'None' in categorical features, assuming that the houses don't have basements, full bathrooms or garage."
      ]
    },
    {
      "cell_type": "code",
      "metadata": {
        "id": "KPjF_tPoyNuz",
        "colab_type": "code",
        "colab": {}
      },
      "source": [
        "#Categorical missing values\n",
        "NAcols=c.columns\n",
        "for col in NAcols:\n",
        "    if c[col].dtype == \"object\":\n",
        "        c[col] = c[col].fillna(\"None\")"
      ],
      "execution_count": 0,
      "outputs": []
    },
    {
      "cell_type": "code",
      "metadata": {
        "id": "QfQBKjxYySjk",
        "colab_type": "code",
        "colab": {}
      },
      "source": [
        "#Numerical missing values\n",
        "for col in NAcols:\n",
        "    if c[col].dtype != \"object\":\n",
        "        c[col]= c[col].fillna(0)"
      ],
      "execution_count": 0,
      "outputs": []
    },
    {
      "cell_type": "code",
      "metadata": {
        "id": "P7QoXl8tyT8e",
        "colab_type": "code",
        "colab": {
          "base_uri": "https://localhost:8080/",
          "height": 119
        },
        "outputId": "59491b20-857b-4e3f-b031-6a71d5853a37"
      },
      "source": [
        "c.isnull().sum().sort_values(ascending=False).head()"
      ],
      "execution_count": 32,
      "outputs": [
        {
          "output_type": "execute_result",
          "data": {
            "text/plain": [
              "SaleCondition    0\n",
              "TotalBsmtSF      0\n",
              "RoofMatl         0\n",
              "Exterior1st      0\n",
              "Exterior2nd      0\n",
              "dtype: int64"
            ]
          },
          "metadata": {
            "tags": []
          },
          "execution_count": 32
        }
      ]
    },
    {
      "cell_type": "markdown",
      "metadata": {
        "id": "3Msaoa6fyXoj",
        "colab_type": "text"
      },
      "source": [
        "We finally end up with a clean dataset, next thing to do is create new features"
      ]
    },
    {
      "cell_type": "markdown",
      "metadata": {
        "id": "kNaruyxByZKJ",
        "colab_type": "text"
      },
      "source": [
        "# Feature engineering:"
      ]
    },
    {
      "cell_type": "markdown",
      "metadata": {
        "id": "lupnZBdgyda-",
        "colab_type": "text"
      },
      "source": [
        "Since the area is a very important variable, we will create a new feature \"TotalArea\" that sums the area of all the floors and the basement."
      ]
    },
    {
      "cell_type": "code",
      "metadata": {
        "id": "_0YV6owdyVRM",
        "colab_type": "code",
        "colab": {}
      },
      "source": [
        "c['TotalArea'] = c['TotalBsmtSF'] + c['1stFlrSF'] + c['2ndFlrSF'] + c['GrLivArea']"
      ],
      "execution_count": 0,
      "outputs": []
    },
    {
      "cell_type": "markdown",
      "metadata": {
        "id": "MMnIehBayh8W",
        "colab_type": "text"
      },
      "source": [
        "Feature engineering is very important to improve the model's performance, I will start in this kernel just with the TotalArea feature and will keep updating the kernel by creating new features.\n",
        "* ** This part of the kernel is not finished yet.**"
      ]
    },
    {
      "cell_type": "markdown",
      "metadata": {
        "id": "H48Sqs0vymcJ",
        "colab_type": "text"
      },
      "source": [
        "# Encoding categorical features"
      ]
    },
    {
      "cell_type": "code",
      "metadata": {
        "id": "FTHu2dWaygRM",
        "colab_type": "code",
        "colab": {
          "base_uri": "https://localhost:8080/",
          "height": 68
        },
        "outputId": "5138f8c2-a809-4626-e5a4-6acc52bfdba5"
      },
      "source": [
        "cb=pd.get_dummies(c)\n",
        "print(\"the shape of the original dataset\",c.shape)\n",
        "print(\"the shape of the encoded dataset\",cb.shape)\n",
        "print(\"We have \",cb.shape[1]- c.shape[1], 'new encoded features')"
      ],
      "execution_count": 34,
      "outputs": [
        {
          "output_type": "stream",
          "text": [
            "the shape of the original dataset (2919, 74)\n",
            "the shape of the encoded dataset (2919, 279)\n",
            "We have  205 new encoded features\n"
          ],
          "name": "stdout"
        }
      ]
    },
    {
      "cell_type": "code",
      "metadata": {
        "id": "sEaC5soUyoec",
        "colab_type": "code",
        "colab": {}
      },
      "source": [
        "#log transform skewed numeric features:\n",
        "from scipy.stats import skew\n",
        "\n",
        "numeric_feats = c.dtypes[c.dtypes != \"object\"].index\n",
        "\n",
        "skewed_feats = c[numeric_feats].apply(lambda x: skew(x.dropna())) #compute skewness\n",
        "skewed_feats = skewed_feats[skewed_feats > 0.75]\n",
        "skewed_feats = skewed_feats.index\n",
        "\n",
        "c[skewed_feats] = np.log1p(c[skewed_feats])"
      ],
      "execution_count": 0,
      "outputs": []
    },
    {
      "cell_type": "markdown",
      "metadata": {
        "id": "bFkOkDTBysSe",
        "colab_type": "text"
      },
      "source": [
        "We are done with the cleaning and feature engineering. Now, we split the combined dataset to the original train and test sets"
      ]
    },
    {
      "cell_type": "code",
      "metadata": {
        "id": "VAdTBQ9typ-k",
        "colab_type": "code",
        "colab": {}
      },
      "source": [
        "Train = cb[:na]  #na is the number of rows of the original training set\n",
        "Test = cb[na:] "
      ],
      "execution_count": 0,
      "outputs": []
    },
    {
      "cell_type": "markdown",
      "metadata": {
        "id": "VAvoaqxvyyUt",
        "colab_type": "text"
      },
      "source": [
        "# Detecting outliers"
      ]
    },
    {
      "cell_type": "markdown",
      "metadata": {
        "id": "rAUKqCU9yyIn",
        "colab_type": "text"
      },
      "source": [
        "This part of the kernel will be a little bit messy. I didn't want to deal with the outliers in the combined dataset to keep the shape of the original train and test datasets. Dropping them would shift the location of the rows.\n",
        "* If you know a better solution to this, I will be more than happy to read your recommandations.\n",
        "\n",
        "* OK. So we go back to our original train dataset to visualize the important features / Sale price scatter plot to find outliers"
      ]
    },
    {
      "cell_type": "code",
      "metadata": {
        "id": "nGx8Pd48yt30",
        "colab_type": "code",
        "colab": {
          "base_uri": "https://localhost:8080/",
          "height": 626
        },
        "outputId": "25faa793-3e3f-46a2-9f1a-d15ee94ae401"
      },
      "source": [
        "fig = plt.figure(figsize=(15,10))\n",
        "ax1 = plt.subplot2grid((2,2),(0,0))\n",
        "plt.scatter(x=a['GrLivArea'], y=a['SalePrice'], color=('yellowgreen'))\n",
        "plt.axvline(x=4600, color='r', linestyle='-')\n",
        "plt.title('Ground living Area- Price scatter plot', fontsize=15, weight='bold' )\n",
        "\n",
        "ax1 = plt.subplot2grid((2,2),(0,1))\n",
        "plt.scatter(x=a['TotalBsmtSF'], y=a['SalePrice'], color=('red'))\n",
        "plt.axvline(x=5900, color='r', linestyle='-')\n",
        "plt.title('Basement Area - Price scatter plot', fontsize=15, weight='bold' )\n",
        "\n",
        "ax1 = plt.subplot2grid((2,2),(1,0))\n",
        "plt.scatter(x=a['1stFlrSF'], y=a['SalePrice'], color=('deepskyblue'))\n",
        "plt.axvline(x=4000, color='r', linestyle='-')\n",
        "plt.title('First floor Area - Price scatter plot', fontsize=15, weight='bold' )\n",
        "\n",
        "ax1 = plt.subplot2grid((2,2),(1,1))\n",
        "plt.scatter(x=a['MasVnrArea'], y=a['SalePrice'], color=('gold'))\n",
        "plt.axvline(x=1500, color='r', linestyle='-')\n",
        "plt.title('Masonry veneer Area - Price scatter plot', fontsize=15, weight='bold' )"
      ],
      "execution_count": 37,
      "outputs": [
        {
          "output_type": "execute_result",
          "data": {
            "text/plain": [
              "Text(0.5, 1.0, 'Masonry veneer Area - Price scatter plot')"
            ]
          },
          "metadata": {
            "tags": []
          },
          "execution_count": 37
        },
        {
          "output_type": "display_data",
          "data": {
            "image/png": "[encoded data removed]",
            "text/plain": [
              "<Figure size 1080x720 with 4 Axes>"
            ]
          },
          "metadata": {
            "tags": []
          }
        }
      ]
    },
    {
      "cell_type": "markdown",
      "metadata": {
        "id": "-ve_IwNyy9JV",
        "colab_type": "text"
      },
      "source": [
        "The outliers are the points in the right that have a larger area but a very low sale price. We localize those points by sorting their respective columns\n",
        "\n",
        "* Interesting! The outlier in \"basement\" and \"first floor\" features is the same as the first outlier in ground living area: **The outlier with index number 1298. **\n",
        "* We detect the outlier 297 in MasVnrArea."
      ]
    },
    {
      "cell_type": "code",
      "metadata": {
        "id": "likS8sH6y69W",
        "colab_type": "code",
        "colab": {
          "base_uri": "https://localhost:8080/",
          "height": 68
        },
        "outputId": "263ca63b-42cb-48b6-ce45-52ae45227722"
      },
      "source": [
        "a['GrLivArea'].sort_values(ascending=False).head(2)"
      ],
      "execution_count": 38,
      "outputs": [
        {
          "output_type": "execute_result",
          "data": {
            "text/plain": [
              "1298    5642\n",
              "523     4676\n",
              "Name: GrLivArea, dtype: int64"
            ]
          },
          "metadata": {
            "tags": []
          },
          "execution_count": 38
        }
      ]
    },
    {
      "cell_type": "code",
      "metadata": {
        "id": "ziCVp-cEzA70",
        "colab_type": "code",
        "colab": {
          "base_uri": "https://localhost:8080/",
          "height": 51
        },
        "outputId": "1c594ae8-84e7-4e17-f797-aea1db2de8d9"
      },
      "source": [
        "a['TotalBsmtSF'].sort_values(ascending=False).head(1)"
      ],
      "execution_count": 39,
      "outputs": [
        {
          "output_type": "execute_result",
          "data": {
            "text/plain": [
              "1298    6110\n",
              "Name: TotalBsmtSF, dtype: int64"
            ]
          },
          "metadata": {
            "tags": []
          },
          "execution_count": 39
        }
      ]
    },
    {
      "cell_type": "code",
      "metadata": {
        "id": "xXGwVvIyzCIf",
        "colab_type": "code",
        "colab": {
          "base_uri": "https://localhost:8080/",
          "height": 51
        },
        "outputId": "35cb82bd-8126-4346-836e-292935e55d7a"
      },
      "source": [
        "a['MasVnrArea'].sort_values(ascending=False).head(1)"
      ],
      "execution_count": 40,
      "outputs": [
        {
          "output_type": "execute_result",
          "data": {
            "text/plain": [
              "297    1600.0\n",
              "Name: MasVnrArea, dtype: float64"
            ]
          },
          "metadata": {
            "tags": []
          },
          "execution_count": 40
        }
      ]
    },
    {
      "cell_type": "code",
      "metadata": {
        "id": "vORulEghzDjk",
        "colab_type": "code",
        "colab": {
          "base_uri": "https://localhost:8080/",
          "height": 51
        },
        "outputId": "af52da8d-553e-4f0e-c1ea-79b817f31284"
      },
      "source": [
        "a['1stFlrSF'].sort_values(ascending=False).head(1)"
      ],
      "execution_count": 41,
      "outputs": [
        {
          "output_type": "execute_result",
          "data": {
            "text/plain": [
              "1298    4692\n",
              "Name: 1stFlrSF, dtype: int64"
            ]
          },
          "metadata": {
            "tags": []
          },
          "execution_count": 41
        }
      ]
    },
    {
      "cell_type": "markdown",
      "metadata": {
        "id": "rpDtD3NmzH9H",
        "colab_type": "text"
      },
      "source": [
        "We can safely remove those 3 points."
      ]
    },
    {
      "cell_type": "code",
      "metadata": {
        "id": "bV7ZxKUszFMT",
        "colab_type": "code",
        "colab": {
          "base_uri": "https://localhost:8080/",
          "height": 34
        },
        "outputId": "eb32f062-6e6f-4b68-9e8e-86e3afc076ec"
      },
      "source": [
        "train=Train[(Train['GrLivArea'] < 4600) & (Train['MasVnrArea'] < 1500)]\n",
        "\n",
        "print('We removed ',Train.shape[0]- train.shape[0],'outliers')"
      ],
      "execution_count": 42,
      "outputs": [
        {
          "output_type": "stream",
          "text": [
            "We removed  3 outliers\n"
          ],
          "name": "stdout"
        }
      ]
    },
    {
      "cell_type": "markdown",
      "metadata": {
        "id": "zt02nJkPzMG6",
        "colab_type": "text"
      },
      "source": [
        "We do the same thing with \"SalePrice\" column, we localize those  rows 1298 and 523 and make sure they are the right outliers to remove. \n",
        "* They both have the same price range as the detected outliers. So, we just drop them."
      ]
    },
    {
      "cell_type": "code",
      "metadata": {
        "id": "E6OxCYGXzJ-0",
        "colab_type": "code",
        "colab": {
          "base_uri": "https://localhost:8080/",
          "height": 51
        },
        "outputId": "305d38ae-8150-4d9f-a766-4d1fb06bae4e"
      },
      "source": [
        "target=a[['SalePrice']]\n",
        "target.loc[1298]"
      ],
      "execution_count": 43,
      "outputs": [
        {
          "output_type": "execute_result",
          "data": {
            "text/plain": [
              "SalePrice    160000\n",
              "Name: 1298, dtype: int64"
            ]
          },
          "metadata": {
            "tags": []
          },
          "execution_count": 43
        }
      ]
    },
    {
      "cell_type": "code",
      "metadata": {
        "id": "md6utH_mzN1s",
        "colab_type": "code",
        "colab": {
          "base_uri": "https://localhost:8080/",
          "height": 51
        },
        "outputId": "86adbba3-7247-4943-f4b4-501418fe367e"
      },
      "source": [
        "target.loc[523]"
      ],
      "execution_count": 44,
      "outputs": [
        {
          "output_type": "execute_result",
          "data": {
            "text/plain": [
              "SalePrice    184750\n",
              "Name: 523, dtype: int64"
            ]
          },
          "metadata": {
            "tags": []
          },
          "execution_count": 44
        }
      ]
    },
    {
      "cell_type": "code",
      "metadata": {
        "id": "XqkcCB-fzPCD",
        "colab_type": "code",
        "colab": {}
      },
      "source": [
        "pos = [1298,523, 297]\n",
        "target.drop(target.index[pos], inplace=True)"
      ],
      "execution_count": 0,
      "outputs": []
    },
    {
      "cell_type": "code",
      "metadata": {
        "id": "0la9OkzqzQ5t",
        "colab_type": "code",
        "colab": {
          "base_uri": "https://localhost:8080/",
          "height": 68
        },
        "outputId": "d9e05060-912d-45e4-90f9-26e865ac77e3"
      },
      "source": [
        "print('We make sure that both train and target sets have the same row number after removing the outliers:')\n",
        "print( 'Train: ',train.shape[0], 'rows')\n",
        "print('Target:', target.shape[0],'rows')"
      ],
      "execution_count": 46,
      "outputs": [
        {
          "output_type": "stream",
          "text": [
            "We make sure that both train and target sets have the same row number after removing the outliers:\n",
            "Train:  1457 rows\n",
            "Target: 1457 rows\n"
          ],
          "name": "stdout"
        }
      ]
    },
    {
      "cell_type": "code",
      "metadata": {
        "id": "wLI5XTDxzSS8",
        "colab_type": "code",
        "colab": {
          "base_uri": "https://localhost:8080/",
          "height": 357
        },
        "outputId": "ade7682e-2543-41dd-f5dc-d7b10fe7d8ff"
      },
      "source": [
        "plt.style.use('seaborn')\n",
        "sns.set_style('whitegrid')\n",
        "fig = plt.figure(figsize=(15,5))\n",
        "#1 rows 2 cols\n",
        "#first row, first col\n",
        "ax1 = plt.subplot2grid((1,2),(0,0))\n",
        "plt.scatter(x=a['GrLivArea'], y=a['SalePrice'], color=('yellowgreen'))\n",
        "plt.title('Area-Price plot with outliers',weight='bold', fontsize=18)\n",
        "plt.axvline(x=4600, color='r', linestyle='-')\n",
        "#first row sec col\n",
        "ax1 = plt.subplot2grid((1,2),(0,1))\n",
        "plt.scatter(x=train['GrLivArea'], y=target['SalePrice'], color='navy')\n",
        "plt.axvline(x=4600, color='r', linestyle='-')\n",
        "plt.title('Area-Price plot without outliers',weight='bold', fontsize=18)"
      ],
      "execution_count": 47,
      "outputs": [
        {
          "output_type": "execute_result",
          "data": {
            "text/plain": [
              "Text(0.5, 1.0, 'Area-Price plot without outliers')"
            ]
          },
          "metadata": {
            "tags": []
          },
          "execution_count": 47
        },
        {
          "output_type": "display_data",
          "data": {
            "image/png": "[encoded data removed]",
            "text/plain": [
              "<Figure size 1080x360 with 2 Axes>"
            ]
          },
          "metadata": {
            "tags": []
          }
        }
      ]
    },
    {
      "cell_type": "markdown",
      "metadata": {
        "id": "x0wEYOIwzYxq",
        "colab_type": "text"
      },
      "source": [
        "#### Log tranform the target because it's skewed to the right"
      ]
    },
    {
      "cell_type": "code",
      "metadata": {
        "id": "rMfqHv5lzVGE",
        "colab_type": "code",
        "colab": {}
      },
      "source": [
        "#log transform the target:\n",
        "target[\"SalePrice\"] = np.log1p(target[\"SalePrice\"])"
      ],
      "execution_count": 0,
      "outputs": []
    },
    {
      "cell_type": "code",
      "metadata": {
        "id": "UU1u9Gn8zas8",
        "colab_type": "code",
        "colab": {
          "base_uri": "https://localhost:8080/",
          "height": 357
        },
        "outputId": "73f84cbd-1b26-41f6-cd85-43905836d6ef"
      },
      "source": [
        "plt.style.use('seaborn')\n",
        "sns.set_style('whitegrid')\n",
        "fig = plt.figure(figsize=(15,5))\n",
        "#1 rows 2 cols\n",
        "#first row, first col\n",
        "ax1 = plt.subplot2grid((1,2),(0,0))\n",
        "plt.hist(a.SalePrice, bins=10, color='mediumpurple')\n",
        "plt.title('Sale price distribution before normalization',weight='bold', fontsize=18)\n",
        "#first row sec col\n",
        "ax1 = plt.subplot2grid((1,2),(0,1))\n",
        "plt.hist(target.SalePrice, bins=10, color='darkcyan')\n",
        "plt.title('Sale price distribution after normalization',weight='bold', fontsize=18)"
      ],
      "execution_count": 49,
      "outputs": [
        {
          "output_type": "execute_result",
          "data": {
            "text/plain": [
              "Text(0.5, 1.0, 'Sale price distribution after normalization')"
            ]
          },
          "metadata": {
            "tags": []
          },
          "execution_count": 49
        },
        {
          "output_type": "display_data",
          "data": {
            "image/png": "[encoded data removed]",
            "text/plain": [
              "<Figure size 1080x360 with 2 Axes>"
            ]
          },
          "metadata": {
            "tags": []
          }
        }
      ]
    },
    {
      "cell_type": "markdown",
      "metadata": {
        "id": "-xLDLFaizgXH",
        "colab_type": "text"
      },
      "source": [
        "# Machine Learning"
      ]
    },
    {
      "cell_type": "code",
      "metadata": {
        "id": "IrRZB_w0zb7M",
        "colab_type": "code",
        "colab": {}
      },
      "source": [
        "from sklearn.metrics import mean_squared_error\n",
        "from sklearn.model_selection import cross_val_score, GridSearchCV, KFold, RandomizedSearchCV, train_test_split\n",
        "import math\n",
        "import sklearn.model_selection as ms\n",
        "import sklearn.metrics as sklm"
      ],
      "execution_count": 0,
      "outputs": []
    },
    {
      "cell_type": "markdown",
      "metadata": {
        "id": "zyZkMYU3zjc3",
        "colab_type": "text"
      },
      "source": [
        "## Preprocessing"
      ]
    },
    {
      "cell_type": "markdown",
      "metadata": {
        "id": "iGpFdVukzmHy",
        "colab_type": "text"
      },
      "source": [
        "We start machine learning by setting the features and target:\n",
        "* Features: x\n",
        "* Target: y"
      ]
    },
    {
      "cell_type": "code",
      "metadata": {
        "id": "L01SWu-8zhyU",
        "colab_type": "code",
        "colab": {}
      },
      "source": [
        "x=train\n",
        "y=np.array(target)"
      ],
      "execution_count": 0,
      "outputs": []
    },
    {
      "cell_type": "markdown",
      "metadata": {
        "id": "97zYViXzzph9",
        "colab_type": "text"
      },
      "source": [
        "Then, we split them to train and test sets"
      ]
    },
    {
      "cell_type": "code",
      "metadata": {
        "id": "5XltgxItzn82",
        "colab_type": "code",
        "colab": {}
      },
      "source": [
        "from sklearn.model_selection import train_test_split\n",
        "x_train, x_test, y_train, y_test = train_test_split(x, y,test_size = .33, random_state=0)"
      ],
      "execution_count": 0,
      "outputs": []
    },
    {
      "cell_type": "markdown",
      "metadata": {
        "id": "RThIM5ISztoM",
        "colab_type": "text"
      },
      "source": [
        "We use RobustScaler to scale our data because it's powerful against outliers, we already detected some but there must be some other outliers out there, I will try to find them in future versions of the kernel"
      ]
    },
    {
      "cell_type": "code",
      "metadata": {
        "id": "AyBX39-NzrWN",
        "colab_type": "code",
        "colab": {}
      },
      "source": [
        "from sklearn.preprocessing import RobustScaler\n",
        "scaler= RobustScaler()\n",
        "# transform \"x_train\"\n",
        "x_train = scaler.fit_transform(x_train)\n",
        "# transform \"x_test\"\n",
        "x_test = scaler.transform(x_test)\n",
        "#Transform the test set\n",
        "X_test= scaler.transform(Test)"
      ],
      "execution_count": 0,
      "outputs": []
    },
    {
      "cell_type": "markdown",
      "metadata": {
        "id": "WoXoeVdDzxKh",
        "colab_type": "text"
      },
      "source": [
        "We first start by trying the very basic regression model: Linear regression. \n",
        "* We use 5- Fold cross validation for a better error estimate:\n"
      ]
    },
    {
      "cell_type": "code",
      "metadata": {
        "id": "0ksIaqQxzvR8",
        "colab_type": "code",
        "colab": {
          "base_uri": "https://localhost:8080/",
          "height": 51
        },
        "outputId": "d92325ee-8e42-4b8b-cc56-1c62b18fe802"
      },
      "source": [
        "from sklearn.linear_model import LinearRegression\n",
        "\n",
        "lreg=LinearRegression()\n",
        "MSEs=ms.cross_val_score(lreg, x, y, scoring='neg_mean_squared_error', cv=5)\n",
        "meanMSE=np.mean(MSEs)\n",
        "print(meanMSE)\n",
        "print('RMSE = '+str(math.sqrt(-meanMSE)))"
      ],
      "execution_count": 54,
      "outputs": [
        {
          "output_type": "stream",
          "text": [
            "-17480796.404625677\n",
            "RMSE = 4181.004233988011\n"
          ],
          "name": "stdout"
        }
      ]
    },
    {
      "cell_type": "markdown",
      "metadata": {
        "id": "x7gCOMh2z6Jo",
        "colab_type": "text"
      },
      "source": [
        "We get an **RMSE=0.125.**\n",
        "* Our goal is to minimize the error, we use regularization methods: Ridge, Lasso and ElasticNet, in order to lower the squared error"
      ]
    },
    {
      "cell_type": "markdown",
      "metadata": {
        "id": "cr_rm9gKz92F",
        "colab_type": "text"
      },
      "source": [
        "## Regularization: "
      ]
    },
    {
      "cell_type": "markdown",
      "metadata": {
        "id": "l3-F5X3e0B18",
        "colab_type": "text"
      },
      "source": [
        "> ## Ridge regression:\n",
        "* Minimize squared error + a term **alpha** that penalizes the error\n",
        "* We need to find a value of **alpha** that minimizes the train and test error (avoid overfitting)"
      ]
    },
    {
      "cell_type": "code",
      "metadata": {
        "id": "8LLew35Mzygb",
        "colab_type": "code",
        "colab": {
          "base_uri": "https://localhost:8080/",
          "height": 51
        },
        "outputId": "9269402a-6667-4d56-beff-ef8cada3f5e1"
      },
      "source": [
        "import sklearn.model_selection as GridSearchCV\n",
        "from sklearn.linear_model import Ridge\n",
        "\n",
        "ridge=Ridge()\n",
        "parameters= {'alpha':[x for x in range(1,101)]}\n",
        "\n",
        "ridge_reg=ms.GridSearchCV(ridge, param_grid=parameters, scoring='neg_mean_squared_error', cv=5)\n",
        "ridge_reg.fit(x,y)\n",
        "print(\"The best value of Alpha is: \",ridge_reg.best_params_)\n",
        "print(\"The best score achieved with Alpha=14 is: \",ridge_reg.best_score_)"
      ],
      "execution_count": 55,
      "outputs": [
        {
          "output_type": "stream",
          "text": [
            "The best value of Alpha is:  {'alpha': 14}\n",
            "The best score achieved with Alpha=14 is:  -0.013041933126555329\n"
          ],
          "name": "stdout"
        }
      ]
    },
    {
      "cell_type": "code",
      "metadata": {
        "id": "-fG84i3c0Goc",
        "colab_type": "code",
        "colab": {
          "base_uri": "https://localhost:8080/",
          "height": 51
        },
        "outputId": "2af64809-b876-486e-d3d8-9d12e2f177be"
      },
      "source": [
        "ridge_mod=Ridge(alpha=14)\n",
        "ridge_mod.fit(x_train,y_train)\n",
        "y_pred_train=ridge_mod.predict(x_train)\n",
        "y_pred_test=ridge_mod.predict(x_test)\n",
        "\n",
        "print('Root Mean Square Error train = ' + str(math.sqrt(sklm.mean_squared_error(y_train, y_pred_train))))\n",
        "print('Root Mean Square Error test = ' + str(math.sqrt(sklm.mean_squared_error(y_test, y_pred_test)))) "
      ],
      "execution_count": 56,
      "outputs": [
        {
          "output_type": "stream",
          "text": [
            "Root Mean Square Error train = 0.0946403632965905\n",
            "Root Mean Square Error test = 0.11515590585841573\n"
          ],
          "name": "stdout"
        }
      ]
    },
    {
      "cell_type": "markdown",
      "metadata": {
        "id": "6BFm3_510BK1",
        "colab_type": "text"
      },
      "source": [
        "Good! Ridge regression minimized the error. Ridge's **RMSE= 0.115**\n",
        "* Next we try Lasso regularization: Similar procedure as ridge regularization but Lasso tends to have a lot of 0 entries in it and just few nonzeros (easy selection). In other words, lasso drops the uninformative features and keeps just the important ones.\n",
        "* As with Ridge regularization, we need to find the **alpha** parameter that penalizes the error"
      ]
    },
    {
      "cell_type": "markdown",
      "metadata": {
        "id": "ohsTkUiZ0T5i",
        "colab_type": "text"
      },
      "source": [
        "> ## Lasso regression"
      ]
    },
    {
      "cell_type": "code",
      "metadata": {
        "id": "G2fbqJzk0Zm_",
        "colab_type": "code",
        "colab": {
          "base_uri": "https://localhost:8080/",
          "height": 51
        },
        "outputId": "26ce4ad3-6539-433d-bf54-afd13adec773"
      },
      "source": [
        "from sklearn.linear_model import Lasso\n",
        "\n",
        "parameters= {'alpha':[0.0001,0.001,0.01,0.1,1,10,100]}\n",
        "\n",
        "lasso=Lasso()\n",
        "lasso_reg=ms.GridSearchCV(lasso, param_grid=parameters, scoring='neg_mean_squared_error', cv=5)\n",
        "lasso_reg.fit(x,y)\n",
        "\n",
        "print('The best value of Alpha is: ',lasso_reg.best_params_)\n",
        "print('The best score achieved with Alpha=0.001 is: ',math.sqrt(-lasso_reg.best_score_))"
      ],
      "execution_count": 57,
      "outputs": [
        {
          "output_type": "stream",
          "text": [
            "The best value of Alpha is:  {'alpha': 0.001}\n",
            "The best score achieved with Alpha=0.001 is:  0.11370955895588558\n"
          ],
          "name": "stdout"
        }
      ]
    },
    {
      "cell_type": "markdown",
      "metadata": {
        "id": "MSWjGj890TDk",
        "colab_type": "text"
      },
      "source": [
        "I tried numbers that round our best Alpha=0.001 and found out that 0.009 gives a better result, so we continue with **Alpha=0.009**"
      ]
    },
    {
      "cell_type": "code",
      "metadata": {
        "id": "FeUyFc4K0g1p",
        "colab_type": "code",
        "colab": {
          "base_uri": "https://localhost:8080/",
          "height": 51
        },
        "outputId": "ddea2e4b-4419-4e91-ec07-68bd97d1b9ad"
      },
      "source": [
        "lasso_mod=Lasso(alpha=0.0009)\n",
        "lasso_mod.fit(x_train,y_train)\n",
        "y_lasso_train=lasso_mod.predict(x_train)\n",
        "y_lasso_test=lasso_mod.predict(x_test)\n",
        "\n",
        "print('Root Mean Square Error train = ' + str(math.sqrt(sklm.mean_squared_error(y_train, y_lasso_train))))\n",
        "print('Root Mean Square Error test = ' + str(math.sqrt(sklm.mean_squared_error(y_test, y_lasso_test))))"
      ],
      "execution_count": 58,
      "outputs": [
        {
          "output_type": "stream",
          "text": [
            "Root Mean Square Error train = 0.10045178977303422\n",
            "Root Mean Square Error test = 0.11207022047587373\n"
          ],
          "name": "stdout"
        }
      ]
    },
    {
      "cell_type": "markdown",
      "metadata": {
        "id": "mQYWHiQe0S2d",
        "colab_type": "text"
      },
      "source": [
        "With Lasso regularization, we achieved a better score. We minimized the error: **RMSE= 0.1120**\n",
        "* We check next, the important features that our model used to make predictions\n",
        "* The number of uninformative features that were dropped"
      ]
    },
    {
      "cell_type": "code",
      "metadata": {
        "id": "dYO2sEKU0SN-",
        "colab_type": "code",
        "colab": {
          "base_uri": "https://localhost:8080/",
          "height": 363
        },
        "outputId": "be71be04-98f1-401e-9ee9-4161d7d6b659"
      },
      "source": [
        "coefs = pd.Series(lasso_mod.coef_, index = x.columns)\n",
        "\n",
        "imp_coefs = pd.concat([coefs.sort_values().head(10),\n",
        "                     coefs.sort_values().tail(10)])\n",
        "imp_coefs.plot(kind = \"barh\", color='yellowgreen')\n",
        "plt.title(\"Features importance in the Lasso Model\")\n",
        "plt.show()"
      ],
      "execution_count": 59,
      "outputs": [
        {
          "output_type": "display_data",
          "data": {
            "image/png": "[encoded data removed]",
            "text/plain": [
              "<Figure size 576x396 with 1 Axes>"
            ]
          },
          "metadata": {
            "tags": []
          }
        }
      ]
    },
    {
      "cell_type": "markdown",
      "metadata": {
        "id": "wNwbSHov08dR",
        "colab_type": "text"
      },
      "source": [
        "Nice! The most important feature is the new feature we created \"**TotalArea**\". \n",
        "* Other features such as neighborhood or overall quality are among the main important features."
      ]
    },
    {
      "cell_type": "code",
      "metadata": {
        "id": "iz8AWfFH0nb-",
        "colab_type": "code",
        "colab": {
          "base_uri": "https://localhost:8080/",
          "height": 34
        },
        "outputId": "e59386fa-4cc2-433f-f7e4-84061c4e49f9"
      },
      "source": [
        "print(\"Lasso kept \",sum(coefs != 0), \"important features and dropped the other \", sum(coefs == 0),\" features\")"
      ],
      "execution_count": 60,
      "outputs": [
        {
          "output_type": "stream",
          "text": [
            "Lasso kept  89 important features and dropped the other  190  features\n"
          ],
          "name": "stdout"
        }
      ]
    },
    {
      "cell_type": "markdown",
      "metadata": {
        "id": "cl4MiM7w1C_P",
        "colab_type": "text"
      },
      "source": [
        "Next, we try ElasticNet. A regressor that combines both ridge and Lasso.\n",
        "We use cross validation to find:\n",
        "* Alpha\n",
        "* Ratio between Ridge and Lasso, for a better combination of both"
      ]
    },
    {
      "cell_type": "markdown",
      "metadata": {
        "id": "NMG5f23V1EVy",
        "colab_type": "text"
      },
      "source": [
        "> ## ElasticNet"
      ]
    },
    {
      "cell_type": "code",
      "metadata": {
        "id": "Ylwl4IOE1AmL",
        "colab_type": "code",
        "colab": {
          "base_uri": "https://localhost:8080/",
          "height": 34
        },
        "outputId": "d04fc511-9b88-4375-ebe7-74d58efad656"
      },
      "source": [
        "from sklearn.linear_model import ElasticNetCV\n",
        "\n",
        "alphas = [0.001, 0.0003, 0.0004, 0.0005, 0.0006, 0.0007, 1,10]\n",
        "l1ratio = [0.1, 0.3,0.5, 0.9, 0.95, 0.99, 1]\n",
        "\n",
        "elastic_cv = ElasticNetCV(cv=5, max_iter=1e7, alphas=alphas,  l1_ratio=l1ratio)\n",
        "\n",
        "elasticmod = elastic_cv.fit(x_train, y_train.ravel())\n",
        "ela_pred=elasticmod.predict(x_test)\n",
        "print('Root Mean Square Error test = ' + str(math.sqrt(sklm.mean_squared_error(y_test, ela_pred))))"
      ],
      "execution_count": 61,
      "outputs": [
        {
          "output_type": "stream",
          "text": [
            "Root Mean Square Error test = 0.11406867015625728\n"
          ],
          "name": "stdout"
        }
      ]
    },
    {
      "cell_type": "markdown",
      "metadata": {
        "id": "sOwvClbP1IG6",
        "colab_type": "text"
      },
      "source": [
        "ElasticNet gives a higher error score than Lasso with **RMSE=0.114**. But we will definitely use it later in stacking and averaging."
      ]
    },
    {
      "cell_type": "markdown",
      "metadata": {
        "id": "gB28aiao1Lj7",
        "colab_type": "text"
      },
      "source": [
        "We will try other kind of regressors, such as XGBRegressor and ExtraTreesRegressor"
      ]
    },
    {
      "cell_type": "code",
      "metadata": {
        "id": "DJQEj0Xk1Hhz",
        "colab_type": "code",
        "colab": {}
      },
      "source": [
        "from xgboost.sklearn import XGBRegressor\n",
        "\n",
        "#xg_reg = XGBRegressor()\n",
        "#xgparam_grid= {'learning_rate' : [0.01],'n_estimators':[3460],\n",
        "#                                     'max_depth':[3], 'min_child_weight':[3,5],\n",
        "#                                     'colsample_bytree':[0.5,0.7],\n",
        "#                                     'reg_alpha':[0.0001,0.001,0.01,0.1,10,100],\n",
        "#                                    'reg_lambda':[1,0.01,0.001,0.0001]}\n",
        "#\n",
        "#xg_grid=GridSearchCV(xg_reg, param_grid=xgparam_grid, cv=5, scoring='neg_mean_squared_error', n_jobs=-1)\n",
        "#xg_grid.fit(x_train,y_train)\n",
        "#print(xg_grid.best_estimator_)\n",
        "#print(xg_grid.best_score_)"
      ],
      "execution_count": 0,
      "outputs": []
    },
    {
      "cell_type": "markdown",
      "metadata": {
        "id": "u19p07_P1THQ",
        "colab_type": "text"
      },
      "source": [
        "The gridSearch above tunes the hyperparamaters, but it takes forever to run. I copy the best estimator results to the model below. Feel free to uncomment and check it out."
      ]
    },
    {
      "cell_type": "code",
      "metadata": {
        "id": "jm8Ix6ab1PV7",
        "colab_type": "code",
        "colab": {
          "base_uri": "https://localhost:8080/",
          "height": 34
        },
        "outputId": "60fe2788-92e1-4734-e4de-601ab68b3990"
      },
      "source": [
        "xgb= XGBRegressor(base_score=0.5, booster='gbtree', colsample_bylevel=1,\n",
        "             colsample_bynode=1, colsample_bytree=0.5, gamma=0,\n",
        "             importance_type='gain', learning_rate=0.01, max_delta_step=0,\n",
        "             max_depth=3, min_child_weight=3, missing=None, n_estimators=3460,\n",
        "             n_jobs=1, nthread=None, objective='reg:squarederror', random_state=0,\n",
        "             reg_alpha=0.0001, reg_lambda=0.01, scale_pos_weight=1, seed=None,\n",
        "             silent=None, subsample=1, verbosity=1)\n",
        "xgmod=xgb.fit(x_train,y_train)\n",
        "xg_pred=xgmod.predict(x_test)\n",
        "print('Root Mean Square Error test = ' + str(math.sqrt(sklm.mean_squared_error(y_test, xg_pred))))"
      ],
      "execution_count": 63,
      "outputs": [
        {
          "output_type": "stream",
          "text": [
            "Root Mean Square Error test = 0.11706447067107628\n"
          ],
          "name": "stdout"
        }
      ]
    },
    {
      "cell_type": "markdown",
      "metadata": {
        "id": "f9crBzQt1Yrn",
        "colab_type": "text"
      },
      "source": [
        "* XGB score **RMSE= 0.117**\n",
        "* Worst than Ridge and Lasso but we will use is in stacking regressors"
      ]
    },
    {
      "cell_type": "code",
      "metadata": {
        "id": "u-TsIk6j1VvX",
        "colab_type": "code",
        "colab": {
          "base_uri": "https://localhost:8080/",
          "height": 34
        },
        "outputId": "b064725a-f994-4e0f-f00a-366c2c8bb5d3"
      },
      "source": [
        "from sklearn.ensemble import ExtraTreesRegressor\n",
        "ex_reg=ExtraTreesRegressor(n_estimators=2000, max_depth=20)\n",
        "\n",
        "ex_mod=ex_reg.fit(x_train,y_train.ravel())\n",
        "ex_pred=ex_mod.predict(x_test)\n",
        "\n",
        "print('Root Mean Square Error test = ' + str(math.sqrt(sklm.mean_squared_error(y_test, ex_pred))))"
      ],
      "execution_count": 64,
      "outputs": [
        {
          "output_type": "stream",
          "text": [
            "Root Mean Square Error test = 0.13587681560072565\n"
          ],
          "name": "stdout"
        }
      ]
    },
    {
      "cell_type": "markdown",
      "metadata": {
        "id": "wdiOI9_r1dd6",
        "colab_type": "text"
      },
      "source": [
        "ExtraTrees gave the worst score because I didn't tune the parameters, I will try to tune them in future versions and see if we can use it in stacking and averaging. For now, we discard it."
      ]
    },
    {
      "cell_type": "markdown",
      "metadata": {
        "id": "xvHWxrU71dQO",
        "colab_type": "text"
      },
      "source": [
        "### VOTING REGRESSOR:\n",
        "* A voting regressor is an ensemble meta-estimator that fits base regressors each on the whole dataset. It, then, averages the individual predictions to form a final prediction.\n",
        "\n",
        "* After running the regressors, we combine them first with voting regressor in order to get a better model"
      ]
    },
    {
      "cell_type": "code",
      "metadata": {
        "id": "qxkWwLZA1bMk",
        "colab_type": "code",
        "colab": {
          "base_uri": "https://localhost:8080/",
          "height": 34
        },
        "outputId": "81b475fe-42ee-4733-a775-066220494afd"
      },
      "source": [
        "from sklearn.ensemble import VotingRegressor\n",
        "\n",
        "vote_mod = VotingRegressor([('Ridge', ridge_mod), ('Lasso', lasso_mod), ('Elastic', elastic_cv), ('XGBRegressor', xgb)])\n",
        "vote= vote_mod.fit(x_train, y_train.ravel())\n",
        "vote_pred=vote.predict(x_test)\n",
        "\n",
        "print('Root Mean Square Error test = ' + str(math.sqrt(sklm.mean_squared_error(y_test, vote_pred))))"
      ],
      "execution_count": 65,
      "outputs": [
        {
          "output_type": "stream",
          "text": [
            "Root Mean Square Error test = 0.11017592167716057\n"
          ],
          "name": "stdout"
        }
      ]
    },
    {
      "cell_type": "markdown",
      "metadata": {
        "id": "vLFMNHiH1l70",
        "colab_type": "text"
      },
      "source": [
        "**NICE!! This is the best RMSE score so far. RMSE=0.1101**"
      ]
    },
    {
      "cell_type": "markdown",
      "metadata": {
        "id": "IQB37haw1lv0",
        "colab_type": "text"
      },
      "source": [
        "### STACKING REGRESSOR:"
      ]
    },
    {
      "cell_type": "markdown",
      "metadata": {
        "id": "jCllfRZh1rPI",
        "colab_type": "text"
      },
      "source": [
        "We stack all the previous models, including the votingregressor as the meta regressor:"
      ]
    },
    {
      "cell_type": "code",
      "metadata": {
        "id": "ReEsBfwP1uvz",
        "colab_type": "code",
        "colab": {
          "base_uri": "https://localhost:8080/",
          "height": 34
        },
        "outputId": "546cf961-b76b-43e1-8891-8116b80c1d80"
      },
      "source": [
        "from mlxtend.regressor import StackingRegressor\n",
        "\n",
        "\n",
        "stregr = StackingRegressor(regressors=[elastic_cv,ridge_mod, lasso_mod], \n",
        "                           meta_regressor=vote_mod, use_features_in_secondary=True)\n",
        "\n",
        "stack_mod=stregr.fit(x_train, y_train.ravel())\n",
        "stacking_pred=stack_mod.predict(x_test)\n",
        "\n",
        "print('Root Mean Square Error test = ' + str(math.sqrt(sklm.mean_squared_error(y_test, stacking_pred))))"
      ],
      "execution_count": 66,
      "outputs": [
        {
          "output_type": "stream",
          "text": [
            "Root Mean Square Error test = 0.1118178308752365\n"
          ],
          "name": "stdout"
        }
      ]
    },
    {
      "cell_type": "markdown",
      "metadata": {
        "id": "GHQayprm1ygg",
        "colab_type": "text"
      },
      "source": [
        "The RMSE score is good but not as good as VotingRegressor, we will average both of them for a stronger model.\n",
        "* Last thing to do is fit our regressors on the testing dataset and then average them"
      ]
    },
    {
      "cell_type": "code",
      "metadata": {
        "id": "ahF5oQBE1wpu",
        "colab_type": "code",
        "colab": {}
      },
      "source": [
        "#VotingRegressor to predict the final Test\n",
        "vote_test = vote_mod.predict(X_test)\n",
        "final1=np.expm1(vote_test)\n",
        "\n",
        "#StackingRegressor to predict the final Test\n",
        "stack_test = stregr.predict(X_test)\n",
        "final2=np.expm1(stack_test)\n",
        "\n",
        "#LassoRegressor to predict the final Test\n",
        "lasso_test = lasso_mod.predict(X_test)\n",
        "final3=np.expm1(lasso_test)"
      ],
      "execution_count": 0,
      "outputs": []
    },
    {
      "cell_type": "markdown",
      "metadata": {
        "id": "bsXjJUpt12Oa",
        "colab_type": "text"
      },
      "source": [
        "I will create 2 csv files and test which one gives better results:\n",
        "* 1: The VotingRegressor prediction (since it gave the best score)\n",
        "* 2: The average prediction of the Voting/Stacking/Lasso (Averaging models tends to lower the error rates)\n",
        "- We will submit both results and see which one gives the best LB score: **Voting** or **Averaging**."
      ]
    },
    {
      "cell_type": "code",
      "metadata": {
        "id": "9bN-BhGA12vT",
        "colab_type": "code",
        "colab": {}
      },
      "source": [
        "#Submission of the results predicted by VotingRegressor\n",
        "vote_submission = pd.DataFrame({\n",
        "        \"Id\": b[\"Id\"],\n",
        "        \"SalePrice\": final1\n",
        "    })\n",
        "vote_submission.to_csv(\"sample_submission.csv\", index=False)"
      ],
      "execution_count": 0,
      "outputs": []
    },
    {
      "cell_type": "markdown",
      "metadata": {
        "id": "XNsJmJ7717QG",
        "colab_type": "text"
      },
      "source": [
        "Averaging the stacking, voting and lasso models"
      ]
    },
    {
      "cell_type": "code",
      "metadata": {
        "id": "wYXx2llM15C7",
        "colab_type": "code",
        "colab": {
          "base_uri": "https://localhost:8080/",
          "height": 204
        },
        "outputId": "b19593e0-acad-4eba-e8a5-bb8c44c0b4e0"
      },
      "source": [
        "#Submission of the results predicted by the average of Voting/Stacking/Lasso\n",
        "final=(final1+final2+final3)/3\n",
        "\n",
        "final_submission = pd.DataFrame({\n",
        "        \"Id\": b[\"Id\"],\n",
        "        \"SalePrice\": final\n",
        "    })\n",
        "final_submission.to_csv(\"sample_submission2.csv\", index=False)\n",
        "final_submission.head()"
      ],
      "execution_count": 69,
      "outputs": [
        {
          "output_type": "execute_result",
          "data": {
            "text/html": [
              "<div>\n",
              "<style scoped>\n",
              "    .dataframe tbody tr th:only-of-type {\n",
              "        vertical-align: middle;\n",
              "    }\n",
              "\n",
              "    .dataframe tbody tr th {\n",
              "        vertical-align: top;\n",
              "    }\n",
              "\n",
              "    .dataframe thead th {\n",
              "        text-align: right;\n",
              "    }\n",
              "</style>\n",
              "<table border=\"1\" class=\"dataframe\">\n",
              "  <thead>\n",
              "    <tr style=\"text-align: right;\">\n",
              "      <th></th>\n",
              "      <th>Id</th>\n",
              "      <th>SalePrice</th>\n",
              "    </tr>\n",
              "  </thead>\n",
              "  <tbody>\n",
              "    <tr>\n",
              "      <th>0</th>\n",
              "      <td>1461</td>\n",
              "      <td>116077.365346</td>\n",
              "    </tr>\n",
              "    <tr>\n",
              "      <th>1</th>\n",
              "      <td>1462</td>\n",
              "      <td>150919.926657</td>\n",
              "    </tr>\n",
              "    <tr>\n",
              "      <th>2</th>\n",
              "      <td>1463</td>\n",
              "      <td>178796.477833</td>\n",
              "    </tr>\n",
              "    <tr>\n",
              "      <th>3</th>\n",
              "      <td>1464</td>\n",
              "      <td>197097.455248</td>\n",
              "    </tr>\n",
              "    <tr>\n",
              "      <th>4</th>\n",
              "      <td>1465</td>\n",
              "      <td>186662.114661</td>\n",
              "    </tr>\n",
              "  </tbody>\n",
              "</table>\n",
              "</div>"
            ],
            "text/plain": [
              "     Id      SalePrice\n",
              "0  1461  116077.365346\n",
              "1  1462  150919.926657\n",
              "2  1463  178796.477833\n",
              "3  1464  197097.455248\n",
              "4  1465  186662.114661"
            ]
          },
          "metadata": {
            "tags": []
          },
          "execution_count": 69
        }
      ]
    },
    {
      "cell_type": "markdown",
      "metadata": {
        "id": "6giEDNvc2CgU",
        "colab_type": "text"
      },
      "source": [
        " **Finally**, after submitting both csv files, the VotingRegressor alone gave a better score 0.1164. \n",
        " * The Voting regressor fits base regularization regressors: Ridge, Lasso and ElasticNet, each on the whole dataset. It, then, averages the individual predictions to form a final prediction."
      ]
    },
    {
      "cell_type": "markdown",
      "metadata": {
        "id": "xILpYXG32EvA",
        "colab_type": "text"
      },
      "source": [
        "## If you made it this far, thank you for your attention.\n",
        " **In order to improve my LB score, I will keep updating this kernel by:**\n",
        "* **Creating new features**\n",
        "* **Detecting other outliers**\n",
        "* **Trying new regressors and stacking/blending them**"
      ]
    },
    {
      "cell_type": "code",
      "metadata": {
        "id": "G2A4AZRw1-5k",
        "colab_type": "code",
        "colab": {
          "base_uri": "https://localhost:8080/",
          "height": 68
        },
        "outputId": "9b0996da-99d1-4f95-f44f-e8b0ebebd3ab"
      },
      "source": [
        "!kaggle competitions submit -c house-prices-advanced-regression-techniques -f sample_submission2.csv -m \"Message\""
      ],
      "execution_count": 70,
      "outputs": [
        {
          "output_type": "stream",
          "text": [
            "Warning: Looks like you're using an outdated API Version, please consider updating (server 1.5.6 / client 1.5.4)\n",
            "100% 33.6k/33.6k [00:02<00:00, 15.1kB/s]\n",
            "Successfully submitted to House Prices: Advanced Regression Techniques"
          ],
          "name": "stdout"
        }
      ]
    },
    {
      "cell_type": "code",
      "metadata": {
        "id": "yg85JkR-2VAb",
        "colab_type": "code",
        "colab": {}
      },
      "source": [
        ""
      ],
      "execution_count": 0,
      "outputs": []
    }
  ]
}